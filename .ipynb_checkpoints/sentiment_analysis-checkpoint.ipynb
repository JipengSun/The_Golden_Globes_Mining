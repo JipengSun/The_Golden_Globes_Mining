{
 "cells": [
  {
   "cell_type": "code",
   "execution_count": 13,
   "id": "215bfdf7-75aa-4acf-8fe0-f1e497a3c315",
   "metadata": {},
   "outputs": [],
   "source": [
    "import json \n",
    "import pandas as pd\n",
    "import nltk\n",
    "from nltk.sentiment import SentimentAnalyzer\n",
    "from nltk.sentiment.util import *\n",
    "from nltk.sentiment.vader import SentimentIntensityAnalyzer\n",
    "\n",
    "df = pd.read_json(\"gg2013.json/gg2013.json\")"
   ]
  },
  {
   "cell_type": "code",
   "execution_count": 17,
   "id": "fba3416f-4eb4-42b3-a813-4d552bf26fa3",
   "metadata": {},
   "outputs": [],
   "source": [
    "#Function to get sentiment averages for a group of tweets\n",
    "def get_sentiment(tweets):\n",
    "    neu = 0\n",
    "    pos = 0\n",
    "    neg = 0\n",
    "    for tweet in tweets:\n",
    "        sid = SentimentIntensityAnalyzer()\n",
    "        ss = sid.polarity_scores(tweet)\n",
    "        neu += ss['neu']\n",
    "        pos += ss['pos']\n",
    "        neg += ss['neg']\n",
    "    sentiment = {}\n",
    "    sentiment['Neutral'] = neu / len(tweets)\n",
    "    sentiment['Positive'] = pos / len(tweets)\n",
    "    sentiment['Negative'] = neg / len(tweets)\n",
    "    return sentiment"
   ]
  },
  {
   "cell_type": "code",
   "execution_count": 19,
   "id": "6c12b9d3-ad2f-4a9b-819a-8ec88d600a27",
   "metadata": {},
   "outputs": [
    {
     "data": {
      "text/plain": [
       "{'Neutral': 0.8287957325006146,\n",
       " 'Positive': 0.1491517043976046,\n",
       " 'Negative': 0.022052823315118385}"
      ]
     },
     "execution_count": 19,
     "metadata": {},
     "output_type": "execute_result"
    }
   ],
   "source": [
    "#Example for sentiment towards Tina Fey\n",
    "df2 = df[df['text'].str.contains(\" Tina Fey \")]\n",
    "tweets = df2['text'].tolist()\n",
    "get_sentiment(tweets)"
   ]
  }
 ],
 "metadata": {
  "kernelspec": {
   "display_name": "Python 3",
   "language": "python",
   "name": "python3"
  },
  "language_info": {
   "codemirror_mode": {
    "name": "ipython",
    "version": 3
   },
   "file_extension": ".py",
   "mimetype": "text/x-python",
   "name": "python",
   "nbconvert_exporter": "python",
   "pygments_lexer": "ipython3",
   "version": "3.8.8"
  }
 },
 "nbformat": 4,
 "nbformat_minor": 5
}

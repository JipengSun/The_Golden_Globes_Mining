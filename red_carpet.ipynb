{
 "cells": [
  {
   "cell_type": "code",
   "execution_count": 51,
   "id": "3be3994b-b784-4352-a77a-4b638a355b96",
   "metadata": {},
   "outputs": [],
   "source": [
    "import json \n",
    "import pandas as pd\n",
    "import nltk\n",
    "import re\n",
    "from nltk.util import ngrams\n",
    "from collections import Counter\n",
    "\n",
    "df = pd.read_json(\"gg2013.json/gg2013.json\")\n",
    "df2 = df[df['text'].str.contains(\" dressed \", case = False)]"
   ]
  },
  {
   "cell_type": "code",
   "execution_count": 52,
   "id": "eeeaa018-4a09-4f97-9d7e-80e2a0d06a54",
   "metadata": {},
   "outputs": [],
   "source": [
    "df3 = df2[df2['text'].str.contains(\" best \", case = False)]\n",
    "best_tweets = df3['text'].tolist()\n",
    "df4 = df2[df2['text'].str.contains(\" worst \", case = False)]\n",
    "worst_tweets = df4['text'].tolist()\n",
    "df5 = df[df['text'].str.contains(\" carpet \", case = False)]\n",
    "mentions = df5['text'].tolist()"
   ]
  },
  {
   "cell_type": "code",
   "execution_count": 53,
   "id": "92ea96a4-69cf-487e-81ab-07fe0c47494a",
   "metadata": {},
   "outputs": [],
   "source": [
    "def find_most_common_name(tweets):\n",
    "    bigrams = []\n",
    "    for tweet in tweets:\n",
    " #   tweet = tweet.lower()\n",
    "        clean_string = re.sub('[^A-Za-z0-9]+', ' ', tweet)\n",
    "        tokens = nltk.word_tokenize(clean_string)\n",
    "        grams2 = ngrams(tokens, 2)\n",
    "        for gram in grams2:\n",
    "            bigrams.append(gram)\n",
    "    common2 = Counter(bigrams).most_common()\n",
    "    names = nltk.corpus.names.words()\n",
    "    people = {}\n",
    "    for gram in common2:\n",
    "        untokenize = ' '.join(gram[0])\n",
    "        votes = gram[1]\n",
    "        if gram[0][0] in names:\n",
    "            votes *= 3\n",
    "        if gram[0][1] in names:\n",
    "            votes *= 2\n",
    "        if gram[0][1][0].isupper() and gram[0][0][0].isupper() and untokenize != \"Red Carpet\" and untokenize != \"Golden Globes\":\n",
    "            if gram[0][0] not in names and gram[0][1] not in names:\n",
    "                votes *= 1.5\n",
    "            elif gram[0][0] in names and gram[0][1] in names:\n",
    "                votes *= 4\n",
    "            elif gram[0][0] in names or gram[0][1] in names:\n",
    "                votes *= 3\n",
    "            else:\n",
    "                votes *= 2\n",
    "        people[untokenize] = votes\n",
    "    return sorted(people.items(), key = lambda x: x[1], reverse = True)"
   ]
  },
  {
   "cell_type": "code",
   "execution_count": 54,
   "id": "b82c763c-937e-45b5-94bb-b7b70ee64cad",
   "metadata": {},
   "outputs": [
    {
     "name": "stdout",
     "output_type": "stream",
     "text": [
      "Most Mentioned on Red Carpet: Jennifer Lawrence\n",
      "Best Dressed on Red Carpet: Kate Hudson\n",
      "Worst Dressed on Red Carpet: Halle Berry\n"
     ]
    }
   ],
   "source": [
    "most_mentioned = find_most_common_name(mentions)\n",
    "best_dressed = find_most_common_name(best_tweets)\n",
    "worst_dressed = find_most_common_name(worst_tweets)\n",
    "print(\"Most Mentioned on Red Carpet:\", most_mentioned[0][0])\n",
    "print(\"Best Dressed on Red Carpet:\", best_dressed[0][0])\n",
    "print(\"Worst Dressed on Red Carpet:\", worst_dressed[0][0])"
   ]
  }
 ],
 "metadata": {
  "kernelspec": {
   "display_name": "Python 3",
   "language": "python",
   "name": "python3"
  },
  "language_info": {
   "codemirror_mode": {
    "name": "ipython",
    "version": 3
   },
   "file_extension": ".py",
   "mimetype": "text/x-python",
   "name": "python",
   "nbconvert_exporter": "python",
   "pygments_lexer": "ipython3",
   "version": "3.8.8"
  }
 },
 "nbformat": 4,
 "nbformat_minor": 5
}

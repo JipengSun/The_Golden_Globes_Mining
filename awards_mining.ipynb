{
 "cells": [
  {
   "cell_type": "code",
   "execution_count": 515,
   "id": "7a20ece5-2a04-42c2-86f4-b3a6129fc6a3",
   "metadata": {},
   "outputs": [],
   "source": [
    "import json \n",
    "import pandas as pd\n",
    "import re\n",
    "import nltk\n",
    "from nltk.util import ngrams\n",
    "from collections import Counter\n",
    "from pprint import pprint\n",
    "from sklearn.feature_extraction.text import TfidfVectorizer\n",
    "\n",
    "df = pd.read_json(\"./gg2013.json\")"
   ]
  },
  {
   "cell_type": "code",
   "execution_count": 516,
   "outputs": [],
   "source": [
    "#Analyze common phrase occurences\n",
    "'''\n",
    "Input: A list of strings after parsing\n",
    "Output: The most common grams containing 'best'\n",
    "Remarks:\n",
    "    1. Longest award phrase is 12 words\n",
    "'''\n",
    "def common_phrases(keywords):\n",
    "    bigrams = []\n",
    "    trigrams = []\n",
    "    quadgrams = []\n",
    "    multigrams = []\n",
    "    megagrams = []\n",
    "    for item in keywords:\n",
    "        clean_string = re.sub('[^A-Za-z0-9]+', ' ', item)\n",
    "        tokens = nltk.word_tokenize(clean_string)\n",
    "        grams2 = ngrams(tokens, 2)\n",
    "        grams3 = ngrams(tokens, 3)\n",
    "        grams4 = ngrams(tokens, 4)\n",
    "        grams9 = ngrams(tokens, 9)\n",
    "        grams12 = ngrams(tokens, 12)\n",
    "        for gram in grams2:\n",
    "            bigrams.append(gram)\n",
    "        for gram in grams3:\n",
    "            trigrams.append(gram)\n",
    "        for gram in grams4:\n",
    "            quadgrams.append(gram)\n",
    "        for gram in grams9:\n",
    "            multigrams.append(gram)\n",
    "        for gram in grams12:\n",
    "            megagrams.append(gram)\n",
    "\n",
    "    common2 = Counter(bigrams).most_common()\n",
    "    common3 = Counter(trigrams).most_common()\n",
    "    common4 = Counter(quadgrams).most_common()\n",
    "    common9 = Counter(multigrams).most_common()\n",
    "    common12 = Counter(megagrams).most_common()\n",
    "\n",
    "    common2 = filter(lambda x: x[0][0] == \"best\", common2)\n",
    "    common3 = filter(lambda x: x[0][0] == \"best\", common3)\n",
    "    common4 = filter(lambda x: x[0][0] == \"best\", common4)\n",
    "    common9 = filter(lambda x: x[0][0] == \"best\", common9)\n",
    "    common12 = filter(lambda x: x[0][0] == \"best\", common12)\n",
    "\n",
    "    common2 = list(common2)\n",
    "    common3 = list(common3)\n",
    "    common4 = list(common4)\n",
    "    common9 = list(common9)\n",
    "    common12 = list(common12)\n",
    "\n",
    "    combined = common2 + common3 + common4 + common9 + common12\n",
    "    return combined"
   ],
   "metadata": {
    "collapsed": false,
    "pycharm": {
     "name": "#%%\n"
    }
   }
  },
  {
   "cell_type": "code",
   "execution_count": 517,
   "outputs": [],
   "source": [
    "'''\n",
    "Input: List of strings\n",
    "Output: Strings with its frequency\n",
    "Remarks:\n",
    "    1. Can also count common strings in strings for strategy2\n",
    "'''\n",
    "def most_common_beststring(strings):\n",
    "    best_string = filter(lambda x: \"best\" in x, strings)\n",
    "    best_string = list(best_string)\n",
    "    return Counter(best_string).most_common()"
   ],
   "metadata": {
    "collapsed": false,
    "pycharm": {
     "name": "#%%\n"
    }
   }
  },
  {
   "cell_type": "code",
   "execution_count": 518,
   "outputs": [
    {
     "name": "stdout",
     "output_type": "stream",
     "text": [
      "[(('best', 'director'), 41), (('best', 'supporting'), 37), (('best', 'original'), 37), (('best', 'actress'), 28), (('best', 'actor'), 22), (('best', 'picture'), 14), (('best', 'screenplay'), 12), (('best', 'motion'), 11), (('best', 'tv'), 9), (('best', 'performance'), 8), (('best', 'animated'), 8), (('best', 'song'), 7), (('best', 'foreign'), 7), (('best', 'dressed'), 5), (('best', 'movie'), 5), (('best', 'drama'), 4), (('best', 'comedy'), 4), (('best', 'skin'), 1), (('best', 'blurry'), 1), (('best', 'life'), 1), (('best', 'anal'), 1), (('best', 'husband'), 1), (('best', 'film'), 1), (('best', 'pic'), 1), (('best', 'original', 'song'), 23), (('best', 'director', 'for'), 13), (('best', 'supporting', 'actor'), 11), (('best', 'supporting', 'actress'), 11), (('best', 'actor', 'in'), 11), (('best', 'motion', 'picture'), 10), (('best', 'actress', 'for'), 9), (('best', 'performance', 'by'), 8), (('best', 'actress', 'in'), 6), (('best', 'actor', 'for'), 5), (('best', 'screenplay', 'for'), 5), (('best', 'animated', 'feature'), 5), (('best', 'foreign', 'film'), 3), (('best', 'song', 'in'), 2), (('best', 'tv', 'series'), 2), (('best', 'comedy', 'or'), 2), (('best', 'tv', 'drama'), 1), (('best', 'original', 'score'), 1), (('best', 'song', 'for'), 1), (('best', 'skin', 'tight'), 1), (('best', 'supporting', 'performance'), 1), (('best', 'screenplay', 'motion'), 1), (('best', 'original', 'screenplay'), 1), (('best', 'blurry', 'picture'), 1), (('best', 'foreign', 'language'), 1), (('best', 'actress', 'drama'), 1), (('best', 'animated', 'movie'), 1), (('best', 'animated', 'picture'), 1), (('best', 'life', 'time'), 1), (('best', 'tv', 'show'), 1), (('best', 'director', 'in'), 1), (('best', 'tv', 'comedy'), 1), (('best', 'anal', 'sex'), 1), (('best', 'picture', 'musical'), 1), (('best', 'director', 'met'), 1), (('best', 'picture', 'for'), 1), (('best', 'dressed', 'in'), 1), (('best', 'movie', 'definitely'), 1), (('best', 'comedy', 'musical'), 1), (('best', 'actor', 'so'), 1), (('best', 'dressed', 'hands'), 1), (('best', 'picture', 'in'), 1), (('best', 'original', 'song', 'for'), 16), (('best', 'performance', 'by', 'an'), 8), (('best', 'actor', 'in', 'a'), 7), (('best', 'supporting', 'actor', 'for'), 5), (('best', 'actress', 'in', 'a'), 5), (('best', 'supporting', 'actress', 'for'), 5), (('best', 'supporting', 'actor', 'in'), 3), (('best', 'screenplay', 'for', 'django'), 3), (('best', 'director', 'for', 'argo'), 3), (('best', 'song', 'in', 'a'), 2), (('best', 'actress', 'for', 'silver'), 2), (('best', 'actress', 'for', 'keeping'), 2), (('best', 'supporting', 'actress', 'in'), 2), (('best', 'actor', 'in', 'the'), 2), (('best', 'comedy', 'or', 'musical'), 2), (('best', 'actress', 'for', 'her'), 1), (('best', 'actor', 'for', 'django'), 1), (('best', 'actor', 'for', 'a'), 1), (('best', 'actor', 'for', 'tv'), 1), (('best', 'original', 'score', 'for'), 1), (('best', 'original', 'song', 'in'), 1), (('best', 'actor', 'in', 'tv'), 1), (('best', 'director', 'for', 'dances'), 1), (('best', 'motion', 'picture', 'drama'), 1), (('best', 'actress', 'for', 'a'), 1), (('best', 'actress', 'for', 'les'), 1), (('best', 'original', 'song', 'motion'), 1), (('best', 'supporting', 'performance', 'in'), 1), (('best', 'screenplay', 'motion', 'picture'), 1), (('best', 'original', 'screenplay', 'for'), 1), (('best', 'blurry', 'picture', 'with'), 1), (('best', 'animated', 'movie', 'a'), 1), (('best', 'animated', 'picture', 'in'), 1), (('best', 'life', 'time', 'achievement'), 1), (('best', 'tv', 'show', 'musical'), 1), (('best', 'director', 'in', 'the'), 1), (('best', 'director', 'for', 'the'), 1), (('best', 'tv', 'series', 'comedy'), 1), (('best', 'actor', 'in', 'comedy'), 1), (('best', 'motion', 'picture', 'musical'), 1), (('best', 'picture', 'musical', 'comedy'), 1), (('best', 'motion', 'picture', 'for'), 1), (('best', 'director', 'met', 'his'), 1), (('best', 'actress', 'in', 'both'), 1), (('best', 'motion', 'picture', 'comedy'), 1), (('best', 'actress', 'for', 'zero'), 1), (('best', 'dressed', 'in', 'my'), 1), (('best', 'movie', 'definitely', 'a'), 1), (('best', 'actor', 'so', 'all'), 1), (('best', 'picture', 'in', 'the'), 1), (('best', 'tv', 'series', 'drama'), 1), (('best', 'supporting', 'actor', 'in', 'a', 'motion', 'picture', 'for', 'django'), 2), (('best', 'actress', 'in', 'a', 'tv', 'series', 'drama', 'and', 'probably'), 2), (('best', 'performance', 'by', 'an', 'actor', 'in', 'a', 'motion', 'picture'), 2), (('best', 'supporting', 'actor', 'for', 'his', 'work', 'in', 'quentin', 'tarantino'), 1), (('best', 'actress', 'in', 'a', 'musical', 'for', 'some', 'like', 'it'), 1), (('best', 'original', 'song', 'in', 'a', 'motion', 'picture', 'for', 'skyfall'), 1), (('best', 'song', 'in', 'a', 'motion', 'picture', 'skyfall', 'james', 'bond'), 1), (('best', 'supporting', 'performance', 'in', 'a', 'series', 'mini', 'series', 'tv'), 1), (('best', 'screenplay', 'for', 'django', 'apparently', 'there', 's', 'a', 'solid'), 1), (('best', 'supporting', 'actor', 'in', 'a', 'motion', 'picture', 'django', 'unchained'), 1), (('best', 'actor', 'in', 'a', 'musical', 'or', 'comedy', 'for', 'his'), 1), (('best', 'actor', 'in', 'comedy', 'or', 'musical', 'for', 'the', 'golden'), 1), (('best', 'movie', 'definitely', 'a', 'game', 'changer', 'for', 'the', 'oscars'), 1), (('best', 'supporting', 'actress', 'in', 'a', 'motion', 'picture', 'for', 'les'), 1), (('best', 'actress', 'in', 'a', 'tv', 'series', 'drama', 'and', 'probably', 'many', 'best', 'dressed'), 2), (('best', 'supporting', 'actor', 'for', 'his', 'work', 'in', 'quentin', 'tarantino', 's', 'django', 'unchained'), 1), (('best', 'screenplay', 'for', 'django', 'apparently', 'there', 's', 'a', 'solid', 'plot', 'beneath', 'the'), 1), (('best', 'performance', 'by', 'an', 'actor', 'in', 'a', 'motion', 'picture', 'musical', 'or', 'comedy'), 1), (('best', 'actor', 'in', 'a', 'musical', 'or', 'comedy', 'for', 'his', 'role', 'in', 'les'), 1), (('best', 'performance', 'by', 'an', 'actor', 'in', 'a', 'motion', 'picture', 'drama', 'for', 'lincoln'), 1)]\n"
     ]
    }
   ],
   "source": [
    "#Strategy 1 scan after the word won:\n",
    "df2 = df[df['text'].str.contains(\" won \") | df['text'].str.contains(\" Won \")]\n",
    "tweets = df2['text'].tolist()\n",
    "keywords = []\n",
    "#regexp = re.compile(r'[!?.;#]+(?=$|\\s)')\n",
    "regexp = re.compile(r'[!?.;#,@:]')\n",
    "\n",
    "stop_words = ['at','and','on','because','but','tonight','before','lol','since','i','I']\n",
    "\n",
    "#Parse Keywords. All phrase after 'won best' will be captured.\n",
    "for tweet in tweets:\n",
    "    words = tweet.lower().split()\n",
    "    index_won = words.index(\"won\")\n",
    "    if words[index_won + 1] == \"best\":\n",
    "        keyword = \"best \"\n",
    "        curr_index = index_won + 2\n",
    "        while curr_index != len(words):\n",
    "            if regexp.search(words[curr_index]) or words[curr_index] in stop_words:\n",
    "                #keyword += words[curr_index]\n",
    "                keyword = keyword.strip()\n",
    "                break\n",
    "            keyword += words[curr_index] + \" \"\n",
    "            curr_index += 1\n",
    "        keywords.append(keyword)\n",
    "\n",
    "strategy1 = common_phrases(keywords)\n",
    "print(strategy1)"
   ],
   "metadata": {
    "collapsed": false,
    "pycharm": {
     "name": "#%%\n"
    }
   }
  },
  {
   "cell_type": "code",
   "execution_count": 519,
   "outputs": [
    {
     "name": "stdout",
     "output_type": "stream",
     "text": [
      "[(('best', 'actress'), 148), (('best', 'supporting'), 142), (('best', 'motion'), 115), (('best', 'actor'), 96), (('best', 'original'), 39), (('best', 'screenplay'), 36), (('best', 'director'), 36), (('best', 'tv'), 33), (('best', 'animated'), 17), (('best', 'foreign'), 15), (('best', 'speech'), 13), (('best', 'comedy'), 9), (('best', 'drama'), 8), (('best', 'performance'), 8), (('best', 'picture'), 8), (('best', 'miniseries'), 7), (('best', 'mini'), 5), (('best', 'movie'), 4), (('best', 'television'), 4), (('best', 'dressed'), 3), (('best', 'goldenglobes'), 3), (('best', 'editing'), 3), (('best', 'sound'), 2), (('best', 'use'), 2), (('best', 'musical'), 2), (('best', 'gay'), 2), (('best', 'presenters'), 2), (('best', 'tan'), 2), (('best', 'hair'), 2), (('best', 'humans'), 1), (('best', 'imitation'), 1), (('best', 'political'), 1), (('best', 'awkward'), 1), (('best', 'originalscore'), 1), (('best', 'painted'), 1), (('best', 'song'), 1), (('best', 'swallowed'), 1), (('best', 'acceptance'), 1), (('best', 'lesbian'), 1), (('best', 'golden'), 1), (('best', 'outfit'), 1), (('best', 'affair'), 1), (('best', 'real'), 1), (('best', 'accessory'), 1), (('best', 'punchline'), 1), (('best', 'comedic'), 1), (('best', 'drunken'), 1), (('best', 'i'), 1), (('best', 'disapperaing'), 1), (('best', 'penguin'), 1), (('best', 'future'), 1), (('best', 'series'), 1), (('best', 'theme'), 1), (('best', 'direction'), 1), (('best', 'pic'), 1), (('best', 'livetweeter'), 1), (('best', 'film'), 1), (('best', 'jury'), 1), (('best', 'motion', 'picture'), 115), (('best', 'actress', 'in'), 101), (('best', 'supporting', 'actor'), 80), (('best', 'supporting', 'actress'), 56), (('best', 'actor', 'in'), 53), (('best', 'original', 'song'), 30), (('best', 'actor', 'tv'), 16), (('best', 'tv', 'series'), 15), (('best', 'animated', 'feature'), 13), (('best', 'tv', 'comedy'), 11), (('best', 'director', 'for'), 11), (('best', 'actress', 'tv'), 10), (('best', 'original', 'score'), 9), (('best', 'foreign', 'film'), 9), (('best', 'actor', 'for'), 8), (('best', 'director', 'motion'), 8), (('best', 'miniseries', 'or'), 7), (('best', 'performance', 'by'), 7), (('best', 'actress', 'for'), 7), (('best', 'screenplay', 'motion'), 6), (('best', 'foreign', 'language'), 6), (('best', 'actress', 'drama'), 6), (('best', 'speech', 'award'), 6), (('best', 'tv', 'drama'), 5), (('best', 'actor', 'comedy'), 5), (('best', 'mini', 'series'), 4), (('best', 'speech', 'of'), 4), (('best', 'animated', 'film'), 4), (('best', 'comedy', 'or'), 4), (('best', 'actress', 'motion'), 4), (('best', 'actor', 'drama'), 4), (('best', 'television', 'series'), 3), (('best', 'drama', 'tv'), 3), (('best', 'comedy', 'musical'), 3), (('best', 'use', 'of'), 2), (('best', 'gay', 'porn'), 2), (('best', 'actress', 'comedy'), 2), (('best', 'supporting', 'hug'), 2), (('best', 'supporting', 'pageboy'), 2), (('best', 'screenplay', 'in'), 2), (('best', 'dressed', 'of'), 2), (('best', 'tan', 'by'), 2), (('best', 'director', 'of'), 2), (('best', 'actor', 'musical'), 2), (('best', 'picture', 'comedy'), 2), (('best', 'picture', 'drama'), 2), (('best', 'movie', 'miniseries'), 1), (('best', 'tv', 'mini'), 1), (('best', 'actress', 'mini'), 1), (('best', 'supporting', 'role'), 1), (('best', 'drama', 'series'), 1), (('best', 'imitation', 'of'), 1), (('best', 'political', 'shart'), 1), (('best', 'television', 'drama'), 1), (('best', 'awkward', 'moment'), 1), (('best', 'originalscore', 'montionpicture'), 1), (('best', 'musical', 'score'), 1), (('best', 'painted', 'on'), 1), (('best', 'swallowed', 'rooster'), 1), (('best', 'acceptance', 'speech'), 1), (('best', 'lesbian', 'in'), 1), (('best', 'goldenglobes', 'acceptance'), 1), (('best', 'golden', 'globes'), 1), (('best', 'outfit', 'of'), 1), (('best', 'affair', 'ever'), 1), (('best', 'tv', 'movie'), 1), (('best', 'real', 'life'), 1), (('best', 'accessory', 'of'), 1), (('best', 'punchline', 'by'), 1), (('best', 'comedic', 'combo'), 1), (('best', 'presenters', 'ever'), 1), (('best', 'presenters', 'so'), 1), (('best', 'supporting', 'handjob'), 1), (('best', 'screenplay', 'for'), 1), (('best', 'mini', 'actor'), 1), (('best', 'drunken', 'acceptance'), 1), (('best', 'i', 'm'), 1), (('best', 'disapperaing', 'act'), 1), (('best', 'penguin', 'walking'), 1), (('best', 'future', 'gif'), 1), (('best', 'actress', 'television'), 1), (('best', 'goldenglobes', 'speech'), 1), (('best', 'series', 'of'), 1), (('best', 'theme', 'of'), 1), (('best', 'comedy', 'series'), 1), (('best', 'movie', 'comedy'), 1), (('best', 'pic', 'for'), 1), (('best', 'picture', 'musical'), 1), (('best', 'musical', 'comedy'), 1), (('best', 'actor', 'motion'), 1), (('best', 'livetweeter', 'of'), 1), (('best', 'actor', 'film'), 1), (('best', 'movie', 'award'), 1), (('best', 'film', 'drama'), 1), (('best', 'drama', 'film'), 1), (('best', 'drama', 'just'), 1), (('best', 'speech', 'yet'), 1), (('best', 'goldenglobes', 'analysis'), 1), (('best', 'actress', 'in', 'a'), 100), (('best', 'motion', 'picture', 'drama'), 99), (('best', 'supporting', 'actor', 'motion'), 49), (('best', 'actor', 'in', 'a'), 49), (('best', 'supporting', 'actress', 'tv'), 22), (('best', 'supporting', 'actor', 'in'), 21), (('best', 'supporting', 'actress', 'in'), 20), (('best', 'actor', 'tv', 'series'), 15), (('best', 'animated', 'feature', 'film'), 10), (('best', 'director', 'for', 'motion'), 10), (('best', 'tv', 'series', 'drama'), 9), (('best', 'actor', 'for', 'tv'), 8), (('best', 'director', 'motion', 'picture'), 8), (('best', 'motion', 'picture', 'comedy'), 8), (('best', 'miniseries', 'or', 'tv'), 7), (('best', 'performance', 'by', 'an'), 7), (('best', 'tv', 'comedy', 'musical'), 7), (('best', 'original', 'song', 'category'), 6), (('best', 'screenplay', 'motion', 'picture'), 6), (('best', 'foreign', 'language', 'film'), 6), (('best', 'actress', 'tv', 'drama'), 5), (('best', 'actress', 'tv', 'series'), 5), (('best', 'actor', 'comedy', 'musical'), 5), (('best', 'supporting', 'actress', 'for'), 4), (('best', 'speech', 'of', 'the'), 4), (('best', 'actress', 'for', 'comedy'), 4), (('best', 'comedy', 'or', 'musical'), 4), (('best', 'actress', 'motion', 'picture'), 4), (('best', 'mini', 'series', 'or'), 3), (('best', 'actor', 'in', 'tv'), 3), (('best', 'original', 'song', 'motion'), 3), (('best', 'original', 'song', 'in'), 2), (('best', 'gay', 'porn', 'face'), 2), (('best', 'supporting', 'actress', 'motion'), 2), (('best', 'screenplay', 'in', 'a'), 2), (('best', 'dressed', 'of', 'the'), 2), (('best', 'tan', 'by', 'an'), 2), (('best', 'drama', 'tv', 'actress'), 2), (('best', 'tv', 'series', 'actress'), 2), (('best', 'director', 'of', 'a'), 2), (('best', 'tv', 'series', 'comedy'), 2), (('best', 'actor', 'musical', 'or'), 2), (('best', 'picture', 'comedy', 'or'), 2), (('best', 'actress', 'for', 'motion'), 2), (('best', 'motion', 'picture', 'in'), 2), (('best', 'supporting', 'actor', 'award'), 1), (('best', 'mini', 'series', 'tv'), 1), (('best', 'tv', 'mini', 'series'), 1), (('best', 'actress', 'mini', 'series'), 1), (('best', 'tv', 'drama', 'actor'), 1), (('best', 'actor', 'tv', 'drama'), 1), (('best', 'supporting', 'role', 'tonight'), 1), (('best', 'imitation', 'of', 'snl'), 1), (('best', 'television', 'series', 'actor'), 1), (('best', 'drama', 'tv', 'series'), 1), (('best', 'tv', 'drama', 'series'), 1), (('best', 'original', 'score', 'award'), 1), (('best', 'original', 'score', 'for'), 1), (('best', 'use', 'of', 'a'), 1), (('best', 'originalscore', 'montionpicture', 'goldenglobes'), 1), (('best', 'painted', 'on', 'dress'), 1), (('best', 'original', 'song', 'award'), 1), (('best', 'lesbian', 'in', 'a'), 1), (('best', 'goldenglobes', 'acceptance', 'speech'), 1), (('best', 'golden', 'globes', 'acceptance'), 1), (('best', 'outfit', 'of', 'the'), 1), (('best', 'use', 'of', 'monotone'), 1), (('best', 'tv', 'movie', 'or'), 1), (('best', 'real', 'life', 'quote'), 1), (('best', 'accessory', 'of', 'the'), 1), (('best', 'punchline', 'by', 'an'), 1), (('best', 'actress', 'comedy', 'or'), 1), (('best', 'presenters', 'so', 'far'), 1), (('best', 'motion', 'picture', 'screenplay'), 1), (('best', 'screenplay', 'for', 'a'), 1), (('best', 'mini', 'actor', 'in'), 1), (('best', 'drunken', 'acceptance', 'speech'), 1), (('best', 'tv', 'drama', 'actress'), 1), (('best', 'i', 'm', 'a'), 1), (('best', 'animated', 'film', 'globe'), 1), (('best', 'actress', 'in', 'tv'), 1), (('best', 'tv', 'comedy', 'actress'), 1), (('best', 'penguin', 'walking', 'impression'), 1), (('best', 'future', 'gif', 'of'), 1), (('best', 'actress', 'television', 'comedy'), 1), (('best', 'series', 'of', 'non'), 1), (('best', 'director', 'for', 'a'), 1), (('best', 'television', 'series', 'comedy'), 1), (('best', 'theme', 'of', 'the'), 1), (('best', 'tv', 'comedy', 'or'), 1), (('best', 'actor', 'in', 'motion'), 1), (('best', 'movie', 'comedy', 'musical'), 1), (('best', 'comedy', 'musical', 'motion'), 1), (('best', 'pic', 'for', 'comedy'), 1), (('best', 'picture', 'musical', 'comedy'), 1), (('best', 'actor', 'motion', 'picture'), 1), (('best', 'actress', 'for', 'a'), 1), (('best', 'livetweeter', 'of', 'the'), 1), (('best', 'actor', 'film', 'drama'), 1), (('best', 'drama', 'film', 'is'), 1), (('best', 'comedy', 'musical', 'goldenglobes'), 1), (('best', 'television', 'series', 'for'), 1), (('best', 'supporting', 'actress', 'tv', 'series', 'miniseries', 'or', 'tv', 'movie'), 22), (('best', 'supporting', 'actor', 'in', 'a', 'tv', 'show', 'miniseries', 'or'), 8), (('best', 'actress', 'in', 'a', 'motion', 'picture', 'comedy', 'or', 'musical'), 6), (('best', 'supporting', 'actress', 'in', 'a', 'tv', 'movie', 'series', 'or'), 2), (('best', 'actress', 'in', 'a', 'mini', 'series', 'or', 'tv', 'movie'), 2), (('best', 'performance', 'by', 'an', 'actress', 'in', 'a', 'motion', 'picture'), 2), (('best', 'supporting', 'actress', 'in', 'tv', 'series', 'mini', 'series', 'or'), 1), (('best', 'supporting', 'actress', 'in', 'a', 'tv', 'show', 'miniseries', 'or'), 1), (('best', 'lesbian', 'in', 'a', 'back', 'stage', 'candid', 'video', 'cameo'), 1), (('best', 'performance', 'by', 'an', 'actor', 'in', 'a', 'mini', 'series'), 1), (('best', 'performance', 'by', 'an', 'actor', 'in', 'a', 'miniseries', 'or'), 1), (('best', 'actor', 'in', 'a', 'mini', 'series', 'or', 'motion', 'picture'), 1), (('best', 'performance', 'by', 'an', 'actress', 'in', 'a', 'comedy', 'or'), 1), (('best', 'supporting', 'actor', 'in', 'a', 'tv', 'series', 'or', 'movie'), 1), (('best', 'actor', 'in', 'a', 'tv', 'series', 'comedy', 'or', 'musical'), 1), (('best', 'actor', 'in', 'a', 'television', 'series', 'in', 'a', 'comedy'), 1), (('best', 'performance', 'by', 'an', 'actress', 'in', 'a', 'tv', 'series'), 1), (('best', 'i', 'm', 'a', 'bi', 'polar', 'cia', 'agent', 'who'), 1), (('best', 'tv', 'series', 'actress', 'in', 'a', 'comedy', 'or', 'musical'), 1), (('best', 'performance', 'by', 'an', 'actor', 'in', 'a', 'motion', 'picture'), 1), (('best', 'performance', 'by', 'an', 'actor', 'in', 'a', 'mini', 'series', 'or', 'movie', 'made'), 1), (('best', 'actor', 'in', 'a', 'mini', 'series', 'or', 'motion', 'picture', 'made', 'for', 'television'), 1), (('best', 'supporting', 'actor', 'in', 'a', 'tv', 'show', 'miniseries', 'or', 'tv', 'movie', 'award'), 1), (('best', 'i', 'm', 'a', 'bi', 'polar', 'cia', 'agent', 'who', 'just', 'had', 'a'), 1), (('best', 'performance', 'by', 'an', 'actor', 'in', 'a', 'motion', 'picture', 'comedy', 'or', 'musical'), 1)]\n"
     ]
    },
    {
     "data": {
      "text/plain": "[('best', 90),\n ('best director', 26),\n ('best supporting', 14),\n ('best actress', 12),\n ('best original', 12),\n ('best picture', 10),\n (\"best original song for 'ben'\", 9),\n ('best director for', 8),\n ('best original song for', 7),\n ('best performance by an actress in a supporting', 6),\n ('best actor', 5),\n ('best original song', 5),\n ('best screenplay', 5),\n ('best animated feature', 5),\n ('best supporting actor for django', 4),\n ('best drama', 4),\n ('best tv', 4),\n ('best song', 4),\n ('best movie', 4),\n ('best motion picture', 4),\n ('best supporting actor', 3),\n ('best supporting actress', 3),\n ('best foreign film', 3),\n ('best foreign', 3),\n ('best actor in a comedy or', 3),\n ('best actress for silver linings', 2),\n ('best supporting actress for les', 2),\n ('best screenplay for django', 2),\n ('best screenplay for', 2),\n ('best actress for keeping up with the', 2),\n ('best actress in a tv series drama (and probably many best dressed', 2),\n ('best comedy or musical', 2),\n ('best actor for', 2),\n ('best actor in a', 2),\n ('best motion picture -', 2),\n ('best supporting actor in a motion picture for django unchained', 1),\n ('best supporting actor for his work in quentin tarantino\\'s \"django unchained\" ',\n  1),\n ('best actress in a musical for some like it', 1),\n ('best actress for her role', 1),\n ('best supporting actress for', 1),\n ('best actress in a miniseries', 1),\n ('best actor for django', 1),\n ('best supporting actor in a motion picture for django', 1),\n ('best actor for a television series', 1),\n ('best actor for tv series -', 1),\n ('best tv drama', 1),\n ('best original score for life of', 1),\n ('best song for', 1),\n ('best song in a motion', 1),\n ('best original song in a motion picture for \"skyfall\"', 1),\n ('best song in a motion picture - skyfall -james bond', 1),\n ('best skin tight', 1),\n ('best actor in tv', 1),\n ('best director for dances with wolves\"', 1),\n ('best motion picture drama', 1),\n ('best actress for a motion', 1),\n ('best actress for les', 1),\n ('best supporting actress😁✊', 1),\n ('best supporting actress for les miserables’', 1),\n ('best original song motion picture', 1),\n ('best supporting actress for les mis', 1),\n ('best supporting performance in a series/mini-series/tv', 1),\n ('best screenplay -', 1),\n ('best screenplay/motion picture for django', 1),\n ('best original screenplay for \"django', 1),\n ('best blurry picture with a', 1),\n ('best foreign language', 1),\n ('best screenplay for \"django\" apparently there\\'s a solid plot beneath the',\n  1),\n ('best supporting actor in a motion picture - django unchained -', 1),\n ('best actress drama', 1),\n ('best animated', 1),\n ('best animated movie a year it made a', 1),\n ('best animated picture in the golden', 1),\n ('best dressed', 1),\n ('best supporting actress in the golden', 1),\n ('best life time achievement in', 1),\n ('best director for argo - that movie was', 1),\n ('best tv show musical/comedy', 1),\n ('best director in the', 1),\n ('best director for the film', 1),\n ('best tv comedy', 1),\n ('best director for \"argo\" ✊', 1),\n ('best tv series - comedy or', 1),\n ('best anal sex', 1),\n ('best performance by an actor in a motion picture - musical or comedy for \"les misérables\"',\n  1),\n ('best actor in a musical or comedy for his role in \"les miserables\" ', 1),\n ('best husband', 1),\n ('best actor in comedy or musical for the golden', 1),\n ('best actor in the', 1),\n ('best actor in the golden globes musical', 1),\n ('best motion picture - musical or comedy', 1),\n ('best picture (musical/comedy)', 1),\n ('best film', 1),\n ('best comedy/', 1),\n ('best motion picture for the', 1),\n ('best picture -', 1),\n ('best director met his wife', 1),\n ('best actress in both', 1),\n ('best performance by an actor in a motion picture - drama for \"lincoln\"', 1),\n ('best actress in a', 1),\n ('best motion picture - comedy or musical', 1),\n ('best actor in a motion', 1),\n ('best actress for', 1),\n ('best actress for zero dark', 1),\n ('best motion', 1),\n ('best picture for', 1),\n ('best dressed in my opinion', 1),\n ('best movie definitely a game changer for the oscars', 1),\n ('best comedy/musical', 1),\n ('best actor so all is', 1),\n ('best dressed hands', 1),\n ('best pic', 1),\n ('best supporting actress in a motion picture for les', 1),\n ('best picture in the', 1),\n ('best tv series drama', 1),\n ('best director for argo', 1)]"
     },
     "execution_count": 519,
     "metadata": {},
     "output_type": "execute_result"
    }
   ],
   "source": [
    "#Strategy 2 scan before the word won:\n",
    "df3 = df[df['text'].str.contains(\" goes to \")]\n",
    "tweets = df3['text'].tolist()\n",
    "keywords2 = []\n",
    "#Parse Backwards, stop at the word best\n",
    "for tweet in tweets:\n",
    "    words = nltk.word_tokenize(tweet.lower())\n",
    "    index = words.index(\"to\")\n",
    "    if words[index - 1] == \"goes\":\n",
    "        keyword = \"\"\n",
    "        curr_index = index - 2\n",
    "        while curr_index >= 0:\n",
    "            if curr_index == 0 or words[curr_index] == \"best\":\n",
    "                keyword = words[curr_index] + keyword\n",
    "                break\n",
    "            keyword = \" \" + words[curr_index] + keyword\n",
    "            curr_index -= 1\n",
    "        keywords2.append(keyword)\n",
    "\n",
    "#print(keywords2)\n",
    "strategy2 = common_phrases(keywords2)\n",
    "print(strategy2)\n",
    "\n",
    "most_common_beststring(keywords)"
   ],
   "metadata": {
    "collapsed": false,
    "pycharm": {
     "name": "#%%\n"
    }
   }
  },
  {
   "cell_type": "code",
   "execution_count": 520,
   "outputs": [],
   "source": [
    "common_strings = most_common_beststring(keywords2)"
   ],
   "metadata": {
    "collapsed": false,
    "pycharm": {
     "name": "#%%\n"
    }
   }
  },
  {
   "cell_type": "code",
   "execution_count": 521,
   "outputs": [
    {
     "name": "stdout",
     "output_type": "stream",
     "text": [
      "259\n"
     ]
    }
   ],
   "source": [
    "'''\n",
    "Input: gram sets\n",
    "Output: phrases with frequency\n",
    "'''\n",
    "def accumulate_votes(grams1, grams2, common_strings):\n",
    "    awards = {}\n",
    "    '''\n",
    "    for gram in grams1:\n",
    "        untokenize = ' '.join(gram[0])\n",
    "        awards[untokenize] = len(gram[0]) * gram[1]\n",
    "    for gram in grams2:\n",
    "        untokenize = ' '.join(gram[0])\n",
    "        if untokenize in awards:\n",
    "            awards[untokenize] = awards[untokenize] * 2.5\n",
    "        else:\n",
    "            awards[untokenize] = len(gram[0]) * gram[1]\n",
    "    '''\n",
    "    for string in common_strings:\n",
    "        first_two = ' '.join(nltk.word_tokenize(string[0])[:2])\n",
    "        if string[0] in awards:\n",
    "            awards[string[0]] = awards[string[0]] * 2.5\n",
    "        elif first_two in awards:\n",
    "            awards[string[0]] = awards[first_two] * string[1]\n",
    "        else:\n",
    "            awards[string[0]] = len(string[0]) * string[1]\n",
    "    return sorted(awards.items(), key = lambda x: x[1], reverse = True)\n",
    "votes = accumulate_votes(strategy1, strategy2, common_strings)\n",
    "#Need a way to combine similar categories\n",
    "print(len(votes))"
   ],
   "metadata": {
    "collapsed": false,
    "pycharm": {
     "name": "#%%\n"
    }
   }
  },
  {
   "cell_type": "code",
   "execution_count": 522,
   "outputs": [
    {
     "name": "stdout",
     "output_type": "stream",
     "text": [
      "223\n"
     ]
    },
    {
     "data": {
      "text/plain": "[('best director - motion picture', 30468.75),\n ('best actress - television comedy / musical', 7612.5),\n ('best actress - motion picture drama', 6240.0),\n ('best motion picture drama', 5875.0),\n ('best screenplay - motion picture', 5062.5),\n ('best actress - television series drama', 3360.0),\n ('best actress - mini-series / television movie', 2496),\n ('best actress - motion picture comedy / musical', 2400.0),\n ('best actress drama', 2400.0),\n ('best screenplay motion picture', 2025.0),\n ('best actress - comedy / musical', 1920.0),\n ('best supporting actor motion picture', 1764),\n ('best supporting actress television series miniseries / television movie',\n  1562),\n ('best supporting actress - motion picture', 1200.0),\n ('best actor - motion picture drama', 990.0),\n ('best actress television drama', 960),\n ('best actress television series comedy', 768),\n ('best actor - miniseries / television movie', 714),\n ('best motion picture comedy / musical', 675.0),\n ('best actor - motion picture comedy / musical', 660.0),\n ('best actor television series - comedy / musical', 658),\n ('best actress - miniseries / television movie', 576),\n ('best actress - television drama', 576),\n ('best television comedy / musical', 560.0),\n ('best supporting actor - television show miniseries / television movie',\n  483),\n ('best actress motion picture drama', 480.0),\n ('best actress - drama', 480.0),\n ('best actor drama', 450.0),\n ('best actor - television drama', 435.0),\n ('best screenplay', 405),\n ('best screenplay - motion picture ``', 405),\n ('best actress - mini series / television movie', 384),\n ('best actress - television comedy', 384),\n ('best actress - comedy', 384),\n ('best actress - comedy / musical series', 384),\n ('best actress - motion picture- drama-', 384),\n ('best actress - motion picture - drama', 384),\n ('best original song', 324),\n ('best actor comedy / musical', 300),\n ('best original song category the golden globe', 264),\n ('best animated feature film', 234),\n ('rt rarariot : most sincere / best speech award', 230),\n ('best comedy / musical', 210.0),\n ('best miniseries / television movie', 204),\n ('best supporting actor - television', 204),\n ('best motion picture - drama', 202.5),\n ('best director', 195),\n ('best actress', 192),\n ('best actress - television series', 192),\n ('best actress - mini-series', 192),\n ('best actress - mini-series television movie', 192),\n ('best actress comedy', 192),\n ('best actress comedy / musical', 192),\n ('best actress - musical / comedy', 192),\n ('best actress - motion picture musical / comedy', 192),\n ('best actress television series drama', 192),\n ('best actress - television series comedy / musical', 192),\n ('best actress television comedy / musical', 192),\n ('best actress motion picture - drama', 192),\n ('best actress motion picture / drama', 192),\n ('best supporting actor - motion picture', 190),\n ('best supporting actress', 184),\n ('best original song - motion picture', 175.0),\n ('best supporting actor', 168),\n ('best foreign language film', 156),\n ('best foreign film', 153),\n ('best actor - television series', 150.0),\n ('best actor - television series - comedy / musical', 150.0),\n ('best actor musical / comedy', 150.0),\n ('best television series drama', 140.0),\n ('best original score', 133),\n ('best supporting actress - television movie series / miniseries', 124),\n ('best television series actress - comedy / musical', 122.5),\n ('best television series - drama', 120),\n ('best actor - comedy', 120),\n ('best supporting actress - television series', 107.5),\n ('best television drama', 105.0),\n (\"best i 'm bi-polar cia agent who just had baby - real life month ago & amp ; am rocking this red dress\",\n  102),\n ('best motion picture', 95),\n ('best motion picture - comedy / musical', 95.0),\n ('best speech - the night', 92),\n ('best supporting actress motion picture', 76),\n ('best supporting actor - television show miniseries / television movie award',\n  75),\n ('best supporting actress - television series mini-series / television movie',\n  74),\n ('best picture : comedy / musical', 72),\n ('best supporting actress - television show miniseries / television movie',\n  71),\n ('best mini series / television movie', 70),\n ('best original song motion picture', 66),\n ('best animated feature', 63),\n ('best actor', 60),\n ('best actor - television series / drama', 60),\n ('best actor - television drama award', 60),\n ('best actor - television series drama', 60),\n ('best actor television series drama', 60),\n ('best actor television drama award', 60),\n ('best actor - television series-drama', 60),\n ('best actor - television miniseries', 60),\n ('best actor - mini-series / motion picture made - television', 60),\n ('best actor - television series comedy / musical', 60),\n ('best actor - movie musical / comedy', 60),\n ('best actor - comedy film', 60),\n ('best actor - motion picture', 60),\n ('best actor motion picture drama', 60),\n ('best actor - drama', 60),\n ('best actor film / drama', 60),\n ('best drama television actress', 58),\n ('best supporting actress - television miniseries etc . -', 55),\n ('best animated film', 54),\n ('best supporting actor - television series / movie', 49),\n ('best supporting pageboy', 46),\n ('best originalscore montionpicture goldenglobes', 46),\n ('bestactor - miniseries / tvseries goldenglobes', 46),\n ('best supporting actress - motion picture drama', 46),\n ('best use - monotone - an acceptance speech ``', 45),\n ('best television series', 44),\n ('best tan by an actress', 44),\n ('best television comedy', 44),\n ('best lesbian - back-stage candid video cameo', 44),\n ('best goldenglobes acceptance speech so far', 42),\n ('best supporting actress - comedy / musical', 42),\n ('best drunken acceptance speech - the night', 42),\n ('bestdressed goldenglobes goldenglobes2013', 41),\n ('best television series - comedy / musical', 41),\n ('best miniseries / television movie award', 40),\n ('best television movie / miniseries actor', 40),\n (\"best imitation - snl 's homeland sketch\", 39),\n ('best television series comedy / musical', 39),\n ('best supporting hug', 38),\n ('best motion picture- comedy / musical', 37),\n ('best editing', 36),\n ('best picture', 36),\n ('best gay porn face', 36),\n ('best supporting actress - television', 36),\n ('best golden globes acceptance speech', 36),\n ('best picture - comedy musical', 36),\n ('best picture musical / comedy', 36),\n ('best livetweeter - the golden globes', 36),\n ('best picture - drama', 36),\n ('best picture drama', 36),\n ('best mini-series / television movie', 35),\n ('best television series comedy award', 35),\n ('best television series - drama ``', 33),\n ('most sincere / best speech award', 32),\n ('best penguin walking impression', 31),\n ('best television series - comedy', 31),\n ('best motion picture screenplay', 30),\n ('best television comedy actress', 30),\n ('and the award - cutest besties', 30),\n ('best supporting actor - movie', 29),\n ('best mini-series / television', 29),\n ('best television series- drama', 29),\n ('best television drama actress', 29),\n ('best movie - comedy / musical', 29),\n ('best motion picture - drama -', 29),\n ('best supporting role tonight', 28),\n ('best television series actor', 28),\n ('best television drama series', 28),\n ('best punchline by an actress', 28),\n ('best animated feature film :', 28),\n ('best supporting actor award', 27),\n ('best television mini-series', 27),\n ('best television drama actor', 27),\n ('best future gif - the night', 27),\n ('best series - non sequiturs', 27),\n ('best sound ``', 26),\n ('best original score - film', 26),\n ('best real life quote award', 26),\n ('best accessory - the night', 26),\n ('best goldenglobes analysis', 26),\n ('best original score award', 25),\n ('best supporting actor ``', 24),\n ('best original song award', 24),\n ('best mini-actor - series', 24),\n ('best animated film globe', 24),\n ('best goldenglobes speech', 24),\n ('best movie / miniseries', 23),\n ('best outfit - the night', 23),\n ('best supporting handjob', 23),\n ('best speech', 22),\n ('best use - large doily', 22),\n ('best swallowed rooster', 22),\n ('best acceptance speech', 22),\n ('best presenters so far', 22),\n ('best theme - the night', 22),\n ('best speech yet', 22),\n ('best painted on dress', 21),\n ('best disapperaing act', 21),\n ('best musical / comedy', 21),\n ('best drama', 20),\n ('best drama series', 20),\n ('best drama television series', 20),\n ('best political shart', 20),\n ('best presenters ever', 20),\n ('best drama film is', 20),\n ('best drama . just', 20),\n ('best awkward moment', 19),\n ('best hair', 18),\n ('best musical score', 18),\n ('best comedic combo', 18),\n ('best comedy series', 18),\n ('bestmotionpicture', 17),\n ('best performance', 16),\n ('best performance by an actor - mini series / movie made - television', 16),\n ('best performance by an actor - miniseries / television film ``', 16),\n ('best affair ever', 16),\n ('best performance by an actress - comedy / musical', 16),\n ('best performance by an actress - television series drama', 16),\n ('best performance by an actor - motion picture comedy / musical', 16),\n ('best performance by an actress - motion picture drama', 16),\n ('best performance by an actress - motion picture - drama', 16),\n ('best film drama', 15),\n ('best direction', 14),\n ('best dressed', 12),\n ('best dressed - the night easily', 12),\n ('best dressed - the night at the goldenglobes', 12),\n ('best humans', 11),\n ('best comedy', 11),\n ('best comedy / musical motion picture', 11),\n ('best comedy / musical goldenglobes', 11),\n ('best movie', 10),\n ('best movie award', 10),\n ('best song', 9),\n ('best jury', 9)]"
     },
     "execution_count": 522,
     "metadata": {},
     "output_type": "execute_result"
    }
   ],
   "source": [
    "collocation_words = {\n",
    "    \"tv\":\"television\",\n",
    "    \"pic\":\"picture\",\n",
    "    \"for\":\"-\",\n",
    "    \"in\":\"-\",\n",
    "    'or':'/',\n",
    "    'of':'-'\n",
    "}\n",
    "\n",
    "skip_words = ['a']\n",
    "\n",
    "paraphrase = [',','@','(',')','#']\n",
    "\n",
    "def gram_cleaning(grams):\n",
    "    new_grams = []\n",
    "    for gram in grams:\n",
    "        word_list = []\n",
    "        for word in gram[0]:\n",
    "            if word in collocation_words:\n",
    "                word = collocation_words[word]\n",
    "            if word in skip_words:\n",
    "                break\n",
    "            if word not in paraphrase:\n",
    "                word_list.append(word)\n",
    "        word_tuple = tuple(word_list)\n",
    "        gram_tuple = (word_tuple,gram[1])\n",
    "        new_grams.append(gram_tuple)\n",
    "    return new_grams\n",
    "\n",
    "def sticky_word_string(phrase):\n",
    "    phrase_list = nltk.word_tokenize(phrase)\n",
    "    token_list = []\n",
    "    for word in phrase_list:\n",
    "        flag = 0\n",
    "        for i,character in enumerate(word):\n",
    "            if character == '/' and i != 0:\n",
    "                token_list.append(word[0:i])\n",
    "                token_list.append(word[i])\n",
    "                flag = i\n",
    "                if i != len(word)-1:\n",
    "                    token_list.append(word[i+1:len(word)])\n",
    "                break\n",
    "        if flag == 0 and word not in skip_words:\n",
    "            token_list.append(word)\n",
    "    clean_string = ' '.join(token_list)\n",
    "    return clean_string\n",
    "\n",
    "\n",
    "def string_cleaning(grams):\n",
    "    new_grams = []\n",
    "    for gram in grams:\n",
    "        word_list = []\n",
    "        clean_gram = sticky_word_string(gram[0])\n",
    "        temp_list = nltk.word_tokenize(clean_gram)\n",
    "        for word in temp_list:\n",
    "            if word in collocation_words:\n",
    "                word = collocation_words[word]\n",
    "            if word not in paraphrase:\n",
    "                word = word.strip()\n",
    "                word_list.append(word)\n",
    "        phrase = ' '.join(word_list)\n",
    "        gram_tuple = (phrase,gram[1])\n",
    "        new_grams.append(gram_tuple)\n",
    "    return new_grams\n",
    "\n",
    "#for vote in votes:\n",
    "#print(strategy1)\n",
    "new1 = gram_cleaning(strategy1)\n",
    "new2 = gram_cleaning(strategy2)\n",
    "new3 = string_cleaning(common_strings)\n",
    "votes = accumulate_votes(new1, new2, new3)\n",
    "#Need a way to combine similar categories\n",
    "print(len(votes))\n",
    "votes"
   ],
   "metadata": {
    "collapsed": false,
    "pycharm": {
     "name": "#%%\n"
    }
   }
  },
  {
   "cell_type": "code",
   "execution_count": 523,
   "outputs": [
    {
     "data": {
      "text/plain": "[['best director - motion picture', 30468.75],\n ['best actress - television comedy / musical', 7804.5],\n ['best actress - motion picture drama', 7872.0],\n ['best motion picture drama', 6106.5],\n ['best screenplay - motion picture', 7492.5],\n ['best actress - television series drama', 3552.0],\n ['best actress - mini-series / television movie', 3072],\n ['best actress - motion picture comedy / musical', 2400.0],\n ['best actress drama', 2880.0],\n ['best actress - comedy / musical', 2112.0],\n ['best supporting actor motion picture', 1954],\n ['best supporting actress television series miniseries / television movie',\n  1562],\n ['best supporting actress - motion picture', 1276.0],\n ['best actor - motion picture drama', 1050.0],\n ['best actress television drama', 1536],\n ['best actress television series comedy', 768],\n ['best actor - miniseries / television movie', 714],\n ['best motion picture comedy / musical', 807.0],\n ['best actor - motion picture comedy / musical', 660.0],\n ['best actor television series - comedy / musical', 868.0],\n ['best actress - miniseries / television movie', 576],\n ['best television comedy / musical', 560.0],\n ['best supporting actor - television show miniseries / television movie',\n  483],\n ['best actor drama', 510.0],\n ['best actor - television drama', 435.0],\n ['best screenplay', 405],\n ['best actress - television comedy', 384],\n ['best actress - comedy', 576],\n ['best actress - comedy / musical series', 384],\n ['best original song', 324],\n ['best actor comedy / musical', 300],\n ['best original song category the golden globe', 264],\n ['best animated feature film', 262],\n ['rt rarariot : most sincere / best speech award', 230],\n ['best comedy / musical', 210.0],\n ['best miniseries / television movie', 204],\n ['best supporting actor - television', 204],\n ['best director', 195],\n ['best actress', 192],\n ['best actress - television series', 192],\n ['best actress - mini-series', 192],\n ['best actress - musical / comedy', 192],\n ['best actress - motion picture musical / comedy', 192],\n ['best actress - television series comedy / musical', 192],\n ['best supporting actress', 184],\n ['best original song - motion picture', 241.0],\n ['best supporting actor', 192],\n ['best foreign language film', 156],\n ['best foreign film', 153],\n ['best actor - television series', 150.0],\n ['best actor musical / comedy', 150.0],\n ['best television series drama', 322.0],\n ['best original score', 133],\n ['best supporting actress - television movie series / miniseries', 124],\n ['best television series actress - comedy / musical', 122.5],\n ['best actor - comedy', 120],\n ['best supporting actress - television series', 107.5],\n ['best television drama', 105.0],\n [\"best i 'm bi-polar cia agent who just had baby - real life month ago & amp ; am rocking this red dress\",\n  102],\n ['best motion picture', 95],\n ['best speech - the night', 92],\n ['best supporting actor - television show miniseries / television movie award',\n  75],\n ['best supporting actress - television series mini-series / television movie',\n  74],\n ['best picture : comedy / musical', 108],\n ['best supporting actress - television show miniseries / television movie',\n  71],\n ['best mini series / television movie', 105],\n ['best animated feature', 63],\n ['best actor', 60],\n ['best actor - television series / drama', 240],\n ['best actor - television drama award', 120],\n ['best actor - television miniseries', 60],\n ['best actor - mini-series / motion picture made - television', 60],\n ['best actor - movie musical / comedy', 60],\n ['best actor - comedy film', 60],\n ['best actor - motion picture', 60],\n ['best actor film / drama', 60],\n ['best drama television actress', 58],\n ['best supporting actress - television miniseries etc . -', 55],\n ['best animated film', 54],\n ['best supporting actor - television series / movie', 49],\n ['best supporting pageboy', 46],\n ['best originalscore montionpicture goldenglobes', 46],\n ['bestactor - miniseries / tvseries goldenglobes', 46],\n ['best supporting actress - motion picture drama', 46],\n ['best use - monotone - an acceptance speech ``', 45],\n ['best television series', 44],\n ['best tan by an actress', 44],\n ['best television comedy', 44],\n ['best lesbian - back-stage candid video cameo', 44],\n ['best goldenglobes acceptance speech so far', 42],\n ['best supporting actress - comedy / musical', 42],\n ['best drunken acceptance speech - the night', 42],\n ['bestdressed goldenglobes goldenglobes2013', 41],\n ['best television series - comedy / musical', 80],\n ['best miniseries / television movie award', 40],\n ['best television movie / miniseries actor', 40],\n [\"best imitation - snl 's homeland sketch\", 39],\n ['best supporting hug', 38],\n ['best editing', 36],\n ['best picture', 36],\n ['best gay porn face', 36],\n ['best supporting actress - television', 36],\n ['best golden globes acceptance speech', 36],\n ['best picture musical / comedy', 36],\n ['best livetweeter - the golden globes', 36],\n ['best picture - drama', 72],\n ['best television series comedy award', 35],\n ['most sincere / best speech award', 32],\n ['best penguin walking impression', 31],\n ['best television series - comedy', 31],\n ['best motion picture screenplay', 30],\n ['best television comedy actress', 30],\n ['and the award - cutest besties', 30],\n ['best supporting actor - movie', 29],\n ['best mini-series / television', 29],\n ['best television drama actress', 29],\n ['best movie - comedy / musical', 29],\n ['best supporting role tonight', 28],\n ['best television series actor', 28],\n ['best television drama series', 28],\n ['best punchline by an actress', 28],\n ['best supporting actor award', 27],\n ['best television mini-series', 27],\n ['best television drama actor', 27],\n ['best future gif - the night', 27],\n ['best series - non sequiturs', 27],\n ['best sound ``', 26],\n ['best original score - film', 26],\n ['best real life quote award', 26],\n ['best accessory - the night', 26],\n ['best goldenglobes analysis', 26],\n ['best original score award', 25],\n ['best original song award', 24],\n ['best mini-actor - series', 24],\n ['best animated film globe', 24],\n ['best goldenglobes speech', 24],\n ['best movie / miniseries', 23],\n ['best outfit - the night', 23],\n ['best supporting handjob', 23],\n ['best speech', 22],\n ['best use - large doily', 22],\n ['best swallowed rooster', 22],\n ['best acceptance speech', 22],\n ['best presenters so far', 22],\n ['best theme - the night', 22],\n ['best speech yet', 22],\n ['best painted on dress', 21],\n ['best disapperaing act', 21],\n ['best musical / comedy', 21],\n ['best drama', 20],\n ['best drama series', 20],\n ['best drama television series', 20],\n ['best political shart', 20],\n ['best presenters ever', 20],\n ['best drama film is', 20],\n ['best drama . just', 20],\n ['best awkward moment', 19],\n ['best hair', 18],\n ['best musical score', 18],\n ['best comedic combo', 18],\n ['best comedy series', 18],\n ['bestmotionpicture', 17],\n ['best performance', 16],\n ['best performance by an actor - mini series / movie made - television', 16],\n ['best performance by an actor - miniseries / television film ``', 16],\n ['best affair ever', 16],\n ['best performance by an actress - comedy / musical', 16],\n ['best performance by an actress - television series drama', 16],\n ['best performance by an actor - motion picture comedy / musical', 16],\n ['best performance by an actress - motion picture drama', 32],\n ['best film drama', 15],\n ['best direction', 14],\n ['best dressed', 12],\n ['best dressed - the night easily', 12],\n ['best dressed - the night at the goldenglobes', 12],\n ['best humans', 11],\n ['best comedy', 11],\n ['best comedy / musical motion picture', 11],\n ['best comedy / musical goldenglobes', 11],\n ['best movie', 10],\n ['best movie award', 10],\n ['best song', 9],\n ['best jury', 9]]"
     },
     "execution_count": 523,
     "metadata": {},
     "output_type": "execute_result"
    }
   ],
   "source": [
    "words_pattern = '[a-zA-Z]+'\n",
    "resolution_list = []\n",
    "awards_dict = {}\n",
    "for i,vote in enumerate(votes):\n",
    "    words = re.findall(words_pattern, vote[0], flags=re.IGNORECASE)\n",
    "    words = ' '.join(words)\n",
    "    if words in awards_dict:\n",
    "        awards_dict[words].append(i)\n",
    "    else:\n",
    "        awards_dict[words] = [i]\n",
    "#pprint(awards_dict)\n",
    "\n",
    "new_list = []\n",
    "for key, val in awards_dict.items():\n",
    "    if len(val) == 1:\n",
    "        new_list.append(list(votes[val[0]]))\n",
    "    else:\n",
    "        sum = 0\n",
    "        for i in val:\n",
    "            sum+=votes[i][1]\n",
    "        new_list.append([votes[val[0]][0],sum])\n",
    "new_list\n",
    "\n"
   ],
   "metadata": {
    "collapsed": false,
    "pycharm": {
     "name": "#%%\n"
    }
   }
  },
  {
   "cell_type": "code",
   "execution_count": 528,
   "outputs": [],
   "source": [
    "'''\n",
    "TF-IDF\n",
    "'''\n",
    "pd. set_option('display.max_columns', None)\n",
    "pd. set_option('display.max_rows', None)\n",
    "\n",
    "corpus = []\n",
    "for item in new_list:\n",
    "    corpus.append(item[0][1:])\n",
    "\n",
    "vectorizer = TfidfVectorizer()\n",
    "vectors = vectorizer.fit_transform(corpus)\n",
    "feature_names = vectorizer.get_feature_names()\n",
    "dense = vectors.todense()\n",
    "denselist = dense.tolist()\n",
    "tfidf = pd.DataFrame(denselist, columns=feature_names)\n",
    "\n",
    "keyword_list = ['actress','supporting','actor','director','drama','musical','television']\n",
    "for keyword in keyword_list:\n",
    "    tfidf[keyword] = tfidf[keyword]*2\n",
    "#tfidf.iloc[0]"
   ],
   "metadata": {
    "collapsed": false,
    "pycharm": {
     "name": "#%%\n"
    }
   }
  },
  {
   "cell_type": "code",
   "execution_count": 529,
   "outputs": [
    {
     "data": {
      "text/plain": "[[[['best director - motion picture', 30468.75],\n   0.9206170609924232,\n   ['best director', 195]]],\n [[['best actress - television comedy / musical', 7804.5],\n   0.9613746091643035,\n   ['best actress - television series comedy / musical', 192]],\n  [['best actress - television comedy / musical', 7804.5],\n   0.9613746091643035,\n   ['best television series actress - comedy / musical', 122.5]]],\n [],\n [[['best motion picture drama', 6106.5],\n   0.9008567621764881,\n   ['best picture - drama', 72]]],\n [[['best screenplay - motion picture', 7492.5],\n   1.0,\n   ['best motion picture screenplay', 30]]],\n [[['best actress - television series drama', 3552.0],\n   0.9583518874623275,\n   ['best actress television drama', 1536]],\n  [['best actress - television series drama', 3552.0],\n   0.9583518874623275,\n   ['best drama television actress', 58]],\n  [['best actress - television series drama', 3552.0],\n   0.9583518874623275,\n   ['best television drama actress', 29]]],\n [],\n [[['best actress - motion picture comedy / musical', 2400.0],\n   1.0,\n   ['best actress - motion picture musical / comedy', 192]]],\n [],\n [[['best actress - comedy / musical', 2112.0],\n   0.9506975880760117,\n   ['best actress - comedy / musical series', 384]],\n  [['best actress - comedy / musical', 2112.0],\n   1.0,\n   ['best actress - musical / comedy', 192]]],\n [],\n [[['best supporting actress television series miniseries / television movie',\n    1562],\n   0.9512390337186782,\n   ['best supporting actress - television movie series / miniseries', 124]],\n  [['best supporting actress television series miniseries / television movie',\n    1562],\n   0.9089240526268112,\n   ['best supporting actress - television series mini-series / television movie',\n    74]],\n  [['best supporting actress television series miniseries / television movie',\n    1562],\n   0.9163176707045907,\n   ['best supporting actress - television show miniseries / television movie',\n    71]]],\n [],\n [],\n [[['best actress television drama', 1536],\n   0.9583518874623275,\n   ['best actress - television series drama', 3552.0]],\n  [['best actress television drama', 1536],\n   0.9999999999999999,\n   ['best drama television actress', 58]],\n  [['best actress television drama', 1536],\n   0.9999999999999999,\n   ['best television drama actress', 29]]],\n [[['best actress television series comedy', 768],\n   0.9393394256987077,\n   ['best actress - television comedy', 384]],\n  [['best actress television series comedy', 768],\n   0.943144392699277,\n   ['best actress - television series', 192]],\n  [['best actress television series comedy', 768],\n   0.9393394256987077,\n   ['best television comedy actress', 30]]],\n [[['best actor - miniseries / television movie', 714],\n   0.9285168714560474,\n   ['best actor - television miniseries', 60]],\n  [['best actor - miniseries / television movie', 714],\n   1.0,\n   ['best television movie / miniseries actor', 40]]],\n [[['best motion picture comedy / musical', 807.0],\n   0.9123677168033456,\n   ['best picture : comedy / musical', 108]],\n  [['best motion picture comedy / musical', 807.0],\n   0.9123677168033456,\n   ['best picture musical / comedy', 36]],\n  [['best motion picture comedy / musical', 807.0],\n   1.0,\n   ['best comedy / musical motion picture', 11]]],\n [],\n [],\n [],\n [[['best television comedy / musical', 560.0],\n   0.9464351146981211,\n   ['best television series - comedy / musical', 80]]],\n [[['best supporting actor - television show miniseries / television movie',\n    483],\n   0.9667586795554499,\n   ['best supporting actor - television show miniseries / television movie award',\n    75]]],\n [[['best actor drama', 510.0],\n   0.9045242623388863,\n   ['best actor film / drama', 60]]],\n [[['best actor - television drama', 435.0],\n   0.959667969539851,\n   ['best actor - television series / drama', 240]],\n  [['best actor - television drama', 435.0],\n   0.9278217027874415,\n   ['best actor - television drama award', 120]],\n  [['best actor - television drama', 435.0],\n   0.9999999999999998,\n   ['best television drama actor', 27]]],\n [],\n [[['best actress - television comedy', 384],\n   0.9393394256987077,\n   ['best actress television series comedy', 768]],\n  [['best actress - television comedy', 384],\n   1.0,\n   ['best television comedy actress', 30]]],\n [],\n [[['best actress - comedy / musical series', 384],\n   0.9506975880760117,\n   ['best actress - comedy / musical', 2112.0]],\n  [['best actress - comedy / musical series', 384],\n   0.9506975880760117,\n   ['best actress - musical / comedy', 192]]],\n [],\n [[['best actor comedy / musical', 300],\n   1.0,\n   ['best actor musical / comedy', 150.0]],\n  [['best actor comedy / musical', 300],\n   0.9362033798481009,\n   ['best actor - movie musical / comedy', 60]]],\n [],\n [],\n [],\n [[['best comedy / musical', 210.0],\n   0.9056545956743468,\n   ['best picture : comedy / musical', 108]],\n  [['best comedy / musical', 210.0],\n   0.9056545956743468,\n   ['best picture musical / comedy', 36]],\n  [['best comedy / musical', 210.0], 1.0, ['best musical / comedy', 21]]],\n [],\n [[['best supporting actor - television', 204],\n   0.9145641954333833,\n   ['best supporting actor - television series / movie', 49]]],\n [[['best director', 195],\n   0.9206170609924232,\n   ['best director - motion picture', 30468.75]]],\n [],\n [[['best actress - television series', 192],\n   0.943144392699277,\n   ['best actress television series comedy', 768]]],\n [],\n [[['best actress - musical / comedy', 192],\n   1.0,\n   ['best actress - comedy / musical', 2112.0]],\n  [['best actress - musical / comedy', 192],\n   0.9506975880760117,\n   ['best actress - comedy / musical series', 384]]],\n [[['best actress - motion picture musical / comedy', 192],\n   1.0,\n   ['best actress - motion picture comedy / musical', 2400.0]]],\n [[['best actress - television series comedy / musical', 192],\n   0.9613746091643035,\n   ['best actress - television comedy / musical', 7804.5]],\n  [['best actress - television series comedy / musical', 192],\n   1.0,\n   ['best television series actress - comedy / musical', 122.5]]],\n [],\n [],\n [[['best supporting actor', 192],\n   0.9336023824637076,\n   ['best supporting actor - movie', 29]],\n  [['best supporting actor', 192],\n   0.9124574248565723,\n   ['best supporting actor award', 27]]],\n [],\n [],\n [[['best actor - television series', 150.0],\n   1.0,\n   ['best television series actor', 28]]],\n [[['best actor musical / comedy', 150.0],\n   1.0,\n   ['best actor comedy / musical', 300]],\n  [['best actor musical / comedy', 150.0],\n   0.936203379848101,\n   ['best actor - movie musical / comedy', 60]]],\n [[['best television series drama', 322.0],\n   0.9404376600875635,\n   ['best television drama', 105.0]],\n  [['best television series drama', 322.0],\n   0.9999999999999998,\n   ['best television drama series', 28]],\n  [['best television series drama', 322.0],\n   0.9999999999999998,\n   ['best drama television series', 20]]],\n [],\n [[['best supporting actress - television movie series / miniseries', 124],\n   0.9512390337186782,\n   ['best supporting actress television series miniseries / television movie',\n    1562]]],\n [[['best television series actress - comedy / musical', 122.5],\n   0.9613746091643035,\n   ['best actress - television comedy / musical', 7804.5]],\n  [['best television series actress - comedy / musical', 122.5],\n   1.0,\n   ['best actress - television series comedy / musical', 192]]],\n [[['best actor - comedy', 120], 0.9030498173094567, ['best actor', 60]]],\n [[['best supporting actress - television series', 107.5],\n   0.9600689813557515,\n   ['best supporting actress - television', 36]]],\n [[['best television drama', 105.0],\n   0.9404376600875635,\n   ['best television series drama', 322.0]],\n  [['best television drama', 105.0],\n   0.9404376600875635,\n   ['best television drama series', 28]],\n  [['best television drama', 105.0],\n   0.9404376600875635,\n   ['best drama television series', 20]]],\n [],\n [],\n [],\n [[['best supporting actor - television show miniseries / television movie award',\n    75],\n   0.9667586795554499,\n   ['best supporting actor - television show miniseries / television movie',\n    483]]],\n [[['best supporting actress - television series mini-series / television movie',\n    74],\n   0.9089240526268112,\n   ['best supporting actress television series miniseries / television movie',\n    1562]]],\n [[['best picture : comedy / musical', 108],\n   0.9123677168033456,\n   ['best motion picture comedy / musical', 807.0]],\n  [['best picture : comedy / musical', 108],\n   0.9056545956743468,\n   ['best comedy / musical', 210.0]],\n  [['best picture : comedy / musical', 108],\n   1.0000000000000002,\n   ['best picture musical / comedy', 36]],\n  [['best picture : comedy / musical', 108],\n   0.9056545956743468,\n   ['best musical / comedy', 21]],\n  [['best picture : comedy / musical', 108],\n   0.9123677168033456,\n   ['best comedy / musical motion picture', 11]]],\n [[['best supporting actress - television show miniseries / television movie',\n    71],\n   0.9163176707045907,\n   ['best supporting actress television series miniseries / television movie',\n    1562]]],\n [[['best mini series / television movie', 105],\n   0.9033060311088065,\n   ['best mini-series / television', 29]],\n  [['best mini series / television movie', 105],\n   0.9033060311088065,\n   ['best television mini-series', 27]]],\n [],\n [[['best actor', 60], 0.9030498173094567, ['best actor - comedy', 120]]],\n [[['best actor - television series / drama', 240],\n   0.959667969539851,\n   ['best actor - television drama', 435.0]],\n  [['best actor - television series / drama', 240],\n   0.959667969539851,\n   ['best television drama actor', 27]]],\n [[['best actor - television drama award', 120],\n   0.9278217027874415,\n   ['best actor - television drama', 435.0]],\n  [['best actor - television drama award', 120],\n   0.9278217027874415,\n   ['best television drama actor', 27]]],\n [[['best actor - television miniseries', 60],\n   0.9285168714560474,\n   ['best actor - miniseries / television movie', 714]],\n  [['best actor - television miniseries', 60],\n   0.9285168714560474,\n   ['best television movie / miniseries actor', 40]]],\n [],\n [[['best actor - movie musical / comedy', 60],\n   0.936203379848101,\n   ['best actor comedy / musical', 300]],\n  [['best actor - movie musical / comedy', 60],\n   0.936203379848101,\n   ['best actor musical / comedy', 150.0]]],\n [],\n [],\n [[['best actor film / drama', 60],\n   0.9045242623388863,\n   ['best actor drama', 510.0]]],\n [[['best drama television actress', 58],\n   0.9583518874623275,\n   ['best actress - television series drama', 3552.0]],\n  [['best drama television actress', 58],\n   0.9999999999999999,\n   ['best actress television drama', 1536]],\n  [['best drama television actress', 58],\n   0.9999999999999999,\n   ['best television drama actress', 29]]],\n [],\n [],\n [[['best supporting actor - television series / movie', 49],\n   0.9145641954333833,\n   ['best supporting actor - television', 204]]],\n [],\n [],\n [],\n [],\n [],\n [],\n [],\n [],\n [],\n [],\n [],\n [],\n [],\n [[['best television series - comedy / musical', 80],\n   0.9464351146981211,\n   ['best television comedy / musical', 560.0]]],\n [],\n [[['best television movie / miniseries actor', 40],\n   1.0,\n   ['best actor - miniseries / television movie', 714]],\n  [['best television movie / miniseries actor', 40],\n   0.9285168714560474,\n   ['best actor - television miniseries', 60]]],\n [],\n [],\n [],\n [],\n [],\n [[['best supporting actress - television', 36],\n   0.9600689813557515,\n   ['best supporting actress - television series', 107.5]]],\n [],\n [[['best picture musical / comedy', 36],\n   0.9123677168033456,\n   ['best motion picture comedy / musical', 807.0]],\n  [['best picture musical / comedy', 36],\n   0.9056545956743468,\n   ['best comedy / musical', 210.0]],\n  [['best picture musical / comedy', 36],\n   1.0000000000000002,\n   ['best picture : comedy / musical', 108]],\n  [['best picture musical / comedy', 36],\n   0.9056545956743468,\n   ['best musical / comedy', 21]],\n  [['best picture musical / comedy', 36],\n   0.9123677168033456,\n   ['best comedy / musical motion picture', 11]]],\n [],\n [[['best picture - drama', 72],\n   0.9008567621764881,\n   ['best motion picture drama', 6106.5]]],\n [],\n [],\n [],\n [],\n [[['best motion picture screenplay', 30],\n   1.0,\n   ['best screenplay - motion picture', 7492.5]]],\n [[['best television comedy actress', 30],\n   0.9393394256987077,\n   ['best actress television series comedy', 768]],\n  [['best television comedy actress', 30],\n   1.0,\n   ['best actress - television comedy', 384]]],\n [],\n [[['best supporting actor - movie', 29],\n   0.9336023824637076,\n   ['best supporting actor', 192]]],\n [[['best mini-series / television', 29],\n   0.9033060311088065,\n   ['best mini series / television movie', 105]],\n  [['best mini-series / television', 29],\n   1.0000000000000002,\n   ['best television mini-series', 27]]],\n [[['best television drama actress', 29],\n   0.9583518874623275,\n   ['best actress - television series drama', 3552.0]],\n  [['best television drama actress', 29],\n   0.9999999999999999,\n   ['best actress television drama', 1536]],\n  [['best television drama actress', 29],\n   0.9999999999999999,\n   ['best drama television actress', 58]]],\n [],\n [],\n [[['best television series actor', 28],\n   1.0,\n   ['best actor - television series', 150.0]]],\n [[['best television drama series', 28],\n   0.9999999999999998,\n   ['best television series drama', 322.0]],\n  [['best television drama series', 28],\n   0.9404376600875635,\n   ['best television drama', 105.0]],\n  [['best television drama series', 28],\n   0.9999999999999998,\n   ['best drama television series', 20]]],\n [],\n [[['best supporting actor award', 27],\n   0.9124574248565723,\n   ['best supporting actor', 192]]],\n [[['best television mini-series', 27],\n   0.9033060311088065,\n   ['best mini series / television movie', 105]],\n  [['best television mini-series', 27],\n   1.0000000000000002,\n   ['best mini-series / television', 29]]],\n [[['best television drama actor', 27],\n   0.9999999999999998,\n   ['best actor - television drama', 435.0]],\n  [['best television drama actor', 27],\n   0.959667969539851,\n   ['best actor - television series / drama', 240]],\n  [['best television drama actor', 27],\n   0.9278217027874415,\n   ['best actor - television drama award', 120]]],\n [],\n [],\n [],\n [],\n [],\n [],\n [],\n [],\n [],\n [],\n [],\n [],\n [],\n [],\n [],\n [],\n [],\n [],\n [],\n [],\n [],\n [],\n [],\n [],\n [[['best musical / comedy', 21], 1.0, ['best comedy / musical', 210.0]],\n  [['best musical / comedy', 21],\n   0.9056545956743468,\n   ['best picture : comedy / musical', 108]],\n  [['best musical / comedy', 21],\n   0.9056545956743468,\n   ['best picture musical / comedy', 36]]],\n [[['best drama', 20], 0.9105316235862027, ['best drama series', 20]]],\n [[['best drama series', 20], 0.9105316235862027, ['best drama', 20]]],\n [[['best drama television series', 20],\n   0.9999999999999998,\n   ['best television series drama', 322.0]],\n  [['best drama television series', 20],\n   0.9404376600875635,\n   ['best television drama', 105.0]],\n  [['best drama television series', 20],\n   0.9999999999999998,\n   ['best television drama series', 28]]],\n [],\n [],\n [],\n [],\n [],\n [],\n [],\n [],\n [],\n [],\n [],\n [],\n [],\n [],\n [],\n [],\n [],\n [],\n [],\n [],\n [],\n [],\n [],\n [],\n [],\n [[['best comedy / musical motion picture', 11],\n   1.0,\n   ['best motion picture comedy / musical', 807.0]],\n  [['best comedy / musical motion picture', 11],\n   0.9123677168033456,\n   ['best picture : comedy / musical', 108]],\n  [['best comedy / musical motion picture', 11],\n   0.9123677168033456,\n   ['best picture musical / comedy', 36]]],\n [],\n [],\n [],\n [],\n []]"
     },
     "execution_count": 529,
     "metadata": {},
     "output_type": "execute_result"
    }
   ],
   "source": [
    "from sklearn.metrics import pairwise_distances\n",
    "from sklearn.metrics.pairwise import cosine_similarity\n",
    "threshold = 0.9\n",
    "final_list = []\n",
    "cs = cosine_similarity(tfidf,tfidf)\n",
    "#ans = pairwise_distances(tfidf,tfidf,'chebyshev')\n",
    "for v,score_row in enumerate(cs):\n",
    "    similarity = []\n",
    "    for i, score in enumerate(score_row):\n",
    "        if score > threshold and v!=i:\n",
    "            similarity.append([new_list[v],score,new_list[i]])\n",
    "    final_list.append(similarity)\n",
    "final_list"
   ],
   "metadata": {
    "collapsed": false,
    "pycharm": {
     "name": "#%%\n"
    }
   }
  },
  {
   "cell_type": "code",
   "execution_count": 530,
   "outputs": [
    {
     "data": {
      "text/plain": "[[44.032671900265214,\n  ['best actress - television comedy / musical', 7804.5],\n  1],\n [33.542953421632255, ['best actress - motion picture drama', 7872.0], 2],\n [43.59744238991609, ['best actress - television series drama', 3552.0], 5],\n [38.35989166774809,\n  ['best actress - mini-series / television movie', 3072],\n  6],\n [25.446125492227694, ['best motion picture drama', 6106.5], 3],\n [35.852040588976855,\n  ['best actress - motion picture comedy / musical', 2400.0],\n  7],\n [31.70520953585776, ['best actress drama', 2880.0], 8],\n [42.66676833837591,\n  ['best supporting actress television series miniseries / television movie',\n   1562],\n  11],\n [42.06233519597323, ['best actress television drama', 1536], 14],\n [34.20581167043392, ['best actress - comedy / musical', 2112.0], 9],\n [8.707936407959867, ['best director - motion picture', 30468.75], 0],\n [44.677771042243386,\n  ['best actor television series - comedy / musical', 868.0],\n  19],\n [29.62950008071791, ['best supporting actor motion picture', 1954], 10],\n [42.802057735756456, ['best actress television series comedy', 768], 15],\n [13.58784914786941, ['best screenplay - motion picture', 7492.5], 4],\n [30.297291299908508,\n  ['best supporting actress - motion picture', 1276.0],\n  12],\n [32.79345039676575, ['best actor - motion picture drama', 1050.0], 13],\n [36.94825595540885, ['best actor - miniseries / television movie', 714], 16],\n [37.885304185113725,\n  ['best actress - miniseries / television movie', 576],\n  20],\n [35.11629640229202,\n  ['best actor - motion picture comedy / musical', 660.0],\n  18],\n [38.09940985394064, ['best television comedy / musical', 560.0], 21],\n [41.17486538572761, ['best actor - television drama', 435.0], 24],\n [38.512337900257656,\n  ['best supporting actor - television show miniseries / television movie',\n   483],\n  22],\n [41.36365850696104, ['best actress - television comedy', 384], 26],\n [28.339820230225946, ['best motion picture comedy / musical', 807.0], 17],\n [29.68498193092818, ['best actress - comedy', 576], 27],\n [36.08862222874544, ['best actress - comedy / musical series', 384], 28],\n [30.79545899899179, ['best actor drama', 510.0], 23],\n [37.57733411817581, ['best television series drama', 322.0], 51],\n [42.749859859941125, ['best actor - television series / drama', 240], 68],\n [45.49973363508247,\n  ['best actress - television series comedy / musical', 192],\n  43],\n [33.324143710539715, ['best actor comedy / musical', 300], 30],\n [40.73360477959026, ['best actress - television series', 192], 39],\n [37.84918134012243, ['best supporting actor - television', 204], 36],\n [45.49973363508247,\n  ['best television series actress - comedy / musical', 122.5],\n  54],\n [35.852040588976855,\n  ['best actress - motion picture musical / comedy', 192],\n  42],\n [39.50671388668353, ['best actor - television series', 150.0], 49],\n [34.20581167043392, ['best actress - musical / comedy', 192], 41],\n [40.49316746026062,\n  ['best supporting actress - television movie series / miniseries', 124],\n  53],\n [40.13181297159174, ['best actor - television drama award', 120], 69],\n [30.744629191347478, ['best miniseries / television movie', 204], 35],\n [40.32367682720753,\n  ['best supporting actress - television series', 107.5],\n  56],\n [33.324143710539715, ['best actor musical / comedy', 150.0], 50],\n [27.935396548597264, ['best supporting actress', 184], 44],\n [26.073544905035803, ['best comedy / musical', 210.0], 34],\n [27.150390407829363, ['best supporting actor', 192], 46],\n [26.593425159387323, ['best actress', 192], 38],\n [35.796718007608064, ['best television drama', 105.0], 57],\n [26.332964505727524, ['best actress - mini-series', 192], 40],\n [41.857509097134155,\n  ['best supporting actress - television series mini-series / television movie',\n   74],\n  62],\n [39.77488453391928, ['best television series - comedy / musical', 80], 93],\n [38.554293742294945,\n  ['best supporting actor - television show miniseries / television movie award',\n   75],\n  61],\n [38.911225655123765,\n  ['best supporting actress - television show miniseries / television movie',\n   71],\n  64],\n [31.302642287046424, ['best mini series / television movie', 105], 65],\n [42.06233519597323, ['best drama television actress', 58], 76],\n [28.25601332018116, ['best actor - comedy', 120], 55],\n [27.631008824417968, ['best picture : comedy / musical', 108], 63],\n [36.52265232643632, ['best actor - television miniseries', 60], 70],\n [40.15137990935822,\n  ['best supporting actor - television series / movie', 49],\n  79],\n [34.239993345893495,\n  ['best actor - mini-series / motion picture made - television', 60],\n  71],\n [34.072354028077584, ['best actor - movie musical / comedy', 60], 72],\n [33.46163748215734,\n  ['best supporting actress - television miniseries etc . -', 55],\n  77],\n [35.6282318681275,\n  ['best supporting actress - motion picture drama', 46],\n  83],\n [36.06895490928529, ['best television comedy', 44], 87],\n [36.94825595540885, ['best television movie / miniseries actor', 40], 95],\n [30.134588932070557, ['best actor film / drama', 60], 75],\n [35.149484395412415, ['best television series', 44], 85],\n [35.835008472084105, ['best supporting actress - comedy / musical', 42], 90],\n [38.647028120780426, ['best supporting actress - television', 36], 101],\n [41.36365850696104, ['best television comedy actress', 30], 111],\n [42.06233519597323, ['best television drama actress', 29], 115],\n [14.417382878116062, ['best original song - motion picture', 241.0], 45],\n [41.17486538572761, ['best television drama actor', 27], 123],\n [27.0515149102163, ['best actor - motion picture', 60], 74],\n [39.50671388668353, ['best television series actor', 28], 118],\n [24.561884172678052, ['best picture - drama', 72], 105],\n [37.37549184279379, ['best television series - comedy', 31], 109],\n [26.819246775198046, ['best actor - comedy film', 60], 73],\n [34.48488583610924, ['best television series comedy award', 35], 106],\n [37.57733411817581, ['best television drama series', 28], 119],\n [25.01535438459856, ['best actor', 60], 67],\n [29.35209968170227, ['best miniseries / television movie award', 40], 94],\n [17.33904923558313, ['best motion picture', 95], 59],\n [29.719274723644347,\n  ['best performance by an actress - motion picture drama', 32],\n  169],\n [37.57733411817581, ['best drama television series', 20], 151],\n [27.631008824417968, ['best picture musical / comedy', 36], 103],\n [30.76960472457297, ['best mini-series / television', 29], 114],\n [9.115208735966174, ['best original song', 324], 29],\n [30.76960472457297, ['best television mini-series', 27], 122],\n [38.13964375576516,\n  ['best performance by an actress - television series drama', 16],\n  167],\n [28.27788210493668, ['best supporting actor - movie', 29], 113],\n [7.472351517063158, ['best screenplay', 405], 25],\n [27.018259583740985, ['best movie - comedy / musical', 29], 116],\n [26.889371554418677, ['best supporting actor award', 27], 121],\n [8.111136900312074, ['best animated feature film', 262], 32],\n [7.778077110197922,\n  ['best original song category the golden globe', 264],\n  31],\n [31.419465544466455,\n  ['best performance by an actor - motion picture comedy / musical', 16],\n  168],\n [25.3979885342863, ['best mini-actor - series', 24], 133],\n [30.851688947533596,\n  ['best performance by an actor - miniseries / television film ``', 16],\n  164],\n [30.459590278465697,\n  ['best performance by an actor - mini series / movie made - television', 16],\n  163],\n [26.073544905035803, ['best musical / comedy', 21], 148],\n [29.50821069033175,\n  ['best performance by an actress - comedy / musical', 16],\n  166],\n [17.536356247930268, ['best tan by an actress', 44], 86],\n [25.465917842243115, ['best drama series', 20], 150],\n [11.75574025168042, ['best speech - the night', 92], 60],\n [22.74225706409144, ['best drama', 20], 149],\n [16.87659383630789, ['best picture', 36], 99],\n [8.138179419312204, ['best foreign film', 153], 48],\n [23.33086997333233, ['best comedy series', 18], 160],\n [8.527708103267518, ['best original score', 133], 52],\n [28.339820230225946, ['best comedy / musical motion picture', 11], 177],\n [13.806661105079685, ['best supporting pageboy', 46], 80],\n [17.536356247930268, ['best punchline by an actress', 28], 120],\n [22.054034030401453, ['best film drama', 15], 170],\n [13.806661105079687, ['best supporting hug', 38], 97],\n [19.447968174508517, ['best musical score', 18], 158],\n [6.593642453614971, ['best foreign language film', 156], 47],\n [24.15766753171982, ['best comedy / musical goldenglobes', 11], 178],\n [17.70668266458192, ['best drama . just', 20], 155],\n [17.649249755586062, ['best drama film is', 20], 154],\n [13.58784914786941, ['best motion picture screenplay', 30], 110],\n [14.755903265915027, ['best movie / miniseries', 23], 136],\n [21.282680882060898, ['best comedy', 11], 176],\n [9.471758364197427, ['best animated film', 54], 78],\n [4.569581442775618,\n  ['rt rarariot : most sincere / best speech award', 230],\n  33],\n [13.806661105079685, ['best supporting handjob', 23], 138],\n [11.729684411686053, ['best supporting role tonight', 28], 117],\n [9.568867289460552, ['best drunken acceptance speech - the night', 42], 91],\n [4.341634869179708, ['best director', 195], 37],\n [11.84709182186594, ['best speech', 22], 139],\n [11.030539196454125, ['best goldenglobes speech', 24], 135],\n [8.260805849076508, ['best goldenglobes acceptance speech so far', 42], 89],\n [10.477645758857427, ['best original song award', 24], 132],\n [10.061680573270202, ['best original score - film', 26], 127],\n [7.574104793680894,\n  ['best use - monotone - an acceptance speech ``', 45],\n  84],\n [6.33797194370458, ['best animated feature', 63], 66],\n [9.971310965552867, ['best original score award', 25], 131],\n [15.392322263164031, ['best movie', 10], 179],\n [9.722842482710027, ['best acceptance speech', 22], 142],\n [7.59838579190231, ['best golden globes acceptance speech', 36], 102],\n [14.146855572869818, ['best movie award', 10], 180],\n [7.901324324306216, ['best accessory - the night', 26], 129],\n [7.582866010543912, ['best series - non sequiturs', 27], 125],\n [7.923868252429964, ['best animated film globe', 24], 134],\n [7.901324324306216, ['best outfit - the night', 23], 137],\n [7.901324324306216, ['best theme - the night', 22], 144],\n [5.391904954161429,\n  ['best originalscore montionpicture goldenglobes', 46],\n  81],\n [6.029852006898704, ['best livetweeter - the golden globes', 36], 104],\n [8.929121609948295, ['best performance', 16], 162],\n [7.470555120788985, ['best speech yet', 22], 145],\n [6.7198068267204185, ['best future gif - the night', 27], 124],\n [6.544039831676754, ['best goldenglobes analysis', 26], 130],\n [5.434037122633378, ['best editing', 36], 98],\n [4.428176676347086,\n  ['bestactor - miniseries / tvseries goldenglobes', 46],\n  82],\n [8.668908692145166,\n  ['best dressed - the night at the goldenglobes', 12],\n  174],\n [5.541426488445323, ['best real life quote award', 26], 128],\n [4.950559463523755, ['most sincere / best speech award', 32], 107],\n [5.434037122633378, ['best sound ``', 26], 126],\n [7.666014091900867, ['best dressed - the night easily', 12], 173],\n [8.725002588669255, ['best song', 9], 181],\n [2.5821582131516347,\n  [\"best i 'm bi-polar cia agent who just had baby - real life month ago & amp ; am rocking this red dress\",\n   102],\n  58],\n [6.946540725145782, ['best dressed', 12], 172],\n [5.286761602528483, ['best presenters ever', 20], 153],\n [5.434037122633378, ['best hair', 18], 157],\n [4.157065369225019, ['and the award - cutest besties', 30], 112],\n [4.7793080409821185, ['best presenters so far', 22], 143],\n [3.5975706050674576, ['best gay porn face', 36], 100],\n [5.434037122633377, ['best direction', 14], 171],\n [3.2541404311137647, [\"best imitation - snl 's homeland sketch\", 39], 96],\n [3.5975706050674576, ['best penguin walking impression', 31], 108],\n [4.1691103428888505, ['best swallowed rooster', 22], 141],\n [4.169110342888851, ['best disapperaing act', 21], 147],\n [4.756057181421185, ['best affair ever', 16], 165],\n [2.844458562117228, ['best lesbian - back-stage candid video cameo', 44], 88],\n [4.169110342888851, ['best political shart', 20], 152],\n [3.930054673376599, ['best use - large doily', 22], 140],\n [4.169110342888851, ['best awkward moment', 19], 156],\n [5.434037122633378, ['best humans', 11], 175],\n [4.169110342888851, ['best comedic combo', 18], 159],\n [3.78078171054824, ['best painted on dress', 21], 146],\n [2.576511271114395, ['bestdressed goldenglobes goldenglobes2013', 41], 92],\n [5.434037122633378, ['best jury', 9], 182],\n [1.0, ['bestmotionpicture', 17], 161]]"
     },
     "execution_count": 530,
     "metadata": {},
     "output_type": "execute_result"
    }
   ],
   "source": [
    "'''\n",
    "Weighted score\n",
    "'''\n",
    "sum_list = []\n",
    "for i,a in enumerate(cs):\n",
    "    sum_list.append([a.sum(),new_list[i],i])\n",
    "\n",
    "def myFunc(e):\n",
    "  return e[0]*e[0]*e[1][1]\n",
    "\n",
    "sum_list.sort(reverse=True,key=myFunc)\n",
    "sum_list"
   ],
   "metadata": {
    "collapsed": false,
    "pycharm": {
     "name": "#%%\n"
    }
   }
  },
  {
   "cell_type": "code",
   "execution_count": 527,
   "outputs": [
    {
     "data": {
      "text/plain": "'\\nimport spacy\\nfrom spacy import displacy\\n\\nnlp = spacy.load(\"en_core_web_sm\")\\ndoc = nlp(\"best actress-television series drama\")\\ndisplacy.render(doc, style=\"dep\")\\n'"
     },
     "execution_count": 527,
     "metadata": {},
     "output_type": "execute_result"
    }
   ],
   "source": [
    "'''\n",
    "import spacy\n",
    "from spacy import displacy\n",
    "\n",
    "nlp = spacy.load(\"en_core_web_sm\")\n",
    "doc = nlp(\"best actress-television series drama\")\n",
    "displacy.render(doc, style=\"dep\")\n",
    "'''\n"
   ],
   "metadata": {
    "collapsed": false,
    "pycharm": {
     "name": "#%%\n"
    }
   }
  }
 ],
 "metadata": {
  "kernelspec": {
   "name": "pycharm-6f190720",
   "language": "python",
   "display_name": "PyCharm (The_Golden_Globes_Mining)"
  },
  "language_info": {
   "codemirror_mode": {
    "name": "ipython",
    "version": 3
   },
   "file_extension": ".py",
   "mimetype": "text/x-python",
   "name": "python",
   "nbconvert_exporter": "python",
   "pygments_lexer": "ipython3",
   "version": "3.8.8"
  }
 },
 "nbformat": 4,
 "nbformat_minor": 5
}
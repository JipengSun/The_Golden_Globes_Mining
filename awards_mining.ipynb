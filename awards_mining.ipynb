{
 "cells": [
  {
   "cell_type": "code",
   "execution_count": 65,
   "id": "7a20ece5-2a04-42c2-86f4-b3a6129fc6a3",
   "metadata": {},
   "outputs": [],
   "source": [
    "import json \n",
    "import pandas as pd\n",
    "import re\n",
    "import nltk\n",
    "from nltk.util import ngrams\n",
    "from collections import Counter\n",
    "\n",
    "df = pd.read_json(\"./gg2013.json\")"
   ]
  },
  {
   "cell_type": "code",
   "execution_count": 66,
   "outputs": [],
   "source": [
    "#Analyze common phrase occurences\n",
    "'''\n",
    "Input: A list of strings after parsing\n",
    "Output: The most common grams containing 'best'\n",
    "Remarks:\n",
    "    1. Longest award phrase is 12 words\n",
    "'''\n",
    "def common_phrases(keywords):\n",
    "    bigrams = []\n",
    "    trigrams = []\n",
    "    quadgrams = []\n",
    "    multigrams = []\n",
    "    megagrams = []\n",
    "    for item in keywords:\n",
    "        clean_string = re.sub('[^A-Za-z0-9]+', ' ', item)\n",
    "        tokens = nltk.word_tokenize(clean_string)\n",
    "        grams2 = ngrams(tokens, 2)\n",
    "        grams3 = ngrams(tokens, 3)\n",
    "        grams4 = ngrams(tokens, 4)\n",
    "        grams9 = ngrams(tokens, 9)\n",
    "        grams12 = ngrams(tokens, 12)\n",
    "        for gram in grams2:\n",
    "            bigrams.append(gram)\n",
    "        for gram in grams3:\n",
    "            trigrams.append(gram)\n",
    "        for gram in grams4:\n",
    "            quadgrams.append(gram)\n",
    "        for gram in grams9:\n",
    "            multigrams.append(gram)\n",
    "        for gram in grams12:\n",
    "            megagrams.append(gram)\n",
    "\n",
    "    common2 = Counter(bigrams).most_common()\n",
    "    common3 = Counter(trigrams).most_common()\n",
    "    common4 = Counter(quadgrams).most_common()\n",
    "    common9 = Counter(multigrams).most_common()\n",
    "    common12 = Counter(megagrams).most_common()\n",
    "\n",
    "    common2 = filter(lambda x: x[0][0] == \"best\", common2)\n",
    "    common3 = filter(lambda x: x[0][0] == \"best\", common3)\n",
    "    common4 = filter(lambda x: x[0][0] == \"best\", common4)\n",
    "    common9 = filter(lambda x: x[0][0] == \"best\", common9)\n",
    "    common12 = filter(lambda x: x[0][0] == \"best\", common12)\n",
    "\n",
    "    common2 = list(common2)\n",
    "    common3 = list(common3)\n",
    "    common4 = list(common4)\n",
    "    common9 = list(common9)\n",
    "    common12 = list(common12)\n",
    "\n",
    "    combined = common2 + common3 + common4 + common9 + common12\n",
    "    return combined"
   ],
   "metadata": {
    "collapsed": false,
    "pycharm": {
     "name": "#%%\n"
    }
   }
  },
  {
   "cell_type": "code",
   "execution_count": 67,
   "outputs": [],
   "source": [
    "'''\n",
    "Input: List of strings\n",
    "Output: Strings with its frequency\n",
    "Remarks:\n",
    "    1. Can also count common strings in strings for strategy2\n",
    "'''\n",
    "def most_common_beststring(strings):\n",
    "    best_string = filter(lambda x: \"best\" in x, strings)\n",
    "    best_string = list(best_string)\n",
    "    return Counter(best_string).most_common()"
   ],
   "metadata": {
    "collapsed": false,
    "pycharm": {
     "name": "#%%\n"
    }
   }
  },
  {
   "cell_type": "code",
   "execution_count": 68,
   "outputs": [
    {
     "name": "stdout",
     "output_type": "stream",
     "text": [
      "[(('best', 'director'), 41), (('best', 'supporting'), 37), (('best', 'original'), 37), (('best', 'actress'), 28), (('best', 'actor'), 22), (('best', 'picture'), 14), (('best', 'screenplay'), 12), (('best', 'motion'), 11), (('best', 'tv'), 9), (('best', 'performance'), 8), (('best', 'animated'), 8), (('best', 'song'), 7), (('best', 'foreign'), 7), (('best', 'movie'), 5), (('best', 'drama'), 4), (('best', 'comedy'), 4), (('best', 'dressed'), 3), (('best', 'skin'), 1), (('best', 'blurry'), 1), (('best', 'life'), 1), (('best', 'anal'), 1), (('best', 'husband'), 1), (('best', 'film'), 1), (('best', 'pic'), 1), (('best', 'original', 'song'), 23), (('best', 'supporting', 'actor'), 11), (('best', 'supporting', 'actress'), 11), (('best', 'motion', 'picture'), 10), (('best', 'performance', 'by'), 8), (('best', 'animated', 'feature'), 5), (('best', 'foreign', 'film'), 3), (('best', 'tv', 'series'), 3), (('best', 'comedy', 'or'), 2), (('best', 'actress', 'on'), 1), (('best', 'actor', 'on'), 1), (('best', 'tv', 'drama'), 1), (('best', 'original', 'score'), 1), (('best', 'skin', 'tight'), 1), (('best', 'supporting', 'performance'), 1), (('best', 'screenplay', 'motion'), 1), (('best', 'original', 'screenplay'), 1), (('best', 'blurry', 'picture'), 1), (('best', 'foreign', 'language'), 1), (('best', 'actress', 'drama'), 1), (('best', 'animated', 'movie'), 1), (('best', 'animated', 'picture'), 1), (('best', 'life', 'time'), 1), (('best', 'tv', 'show'), 1), (('best', 'tv', 'comedy'), 1), (('best', 'anal', 'sex'), 1), (('best', 'picture', 'musical'), 1), (('best', 'director', 'met'), 1), (('best', 'picture', 'one'), 1), (('best', 'movie', 'definitely'), 1), (('best', 'comedy', 'musical'), 1), (('best', 'actor', 'so'), 1), (('best', 'dressed', 'hands'), 1), (('best', 'pic', 'since'), 1), (('best', 'picture', 'on'), 1), (('best', 'performance', 'by', 'an'), 8), (('best', 'comedy', 'or', 'musical'), 2), (('best', 'actress', 'on', 'mini'), 1), (('best', 'actor', 'on', 'a'), 1), (('best', 'motion', 'picture', 'drama'), 1), (('best', 'original', 'song', 'motion'), 1), (('best', 'screenplay', 'motion', 'picture'), 1), (('best', 'blurry', 'picture', 'with'), 1), (('best', 'actress', 'drama', 'i'), 1), (('best', 'animated', 'movie', 'a'), 1), (('best', 'animated', 'feature', 'i'), 1), (('best', 'life', 'time', 'achievement'), 1), (('best', 'tv', 'show', 'musical'), 1), (('best', 'tv', 'series', 'comedy'), 1), (('best', 'motion', 'picture', 'musical'), 1), (('best', 'picture', 'musical', 'comedy'), 1), (('best', 'director', 'met', 'his'), 1), (('best', 'motion', 'picture', 'comedy'), 1), (('best', 'picture', 'one', 'of'), 1), (('best', 'movie', 'definitely', 'a'), 1), (('best', 'actor', 'so', 'all'), 1), (('best', 'pic', 'since', 'the'), 1), (('best', 'picture', 'on', 'golden'), 1), (('best', 'tv', 'series', 'drama'), 1), (('best', 'actress', 'drama', 'i', 'got', 'totally', 'distracted', 'by', 'lea'), 1), (('best', 'animated', 'feature', 'i', 'think', 'brenda', 'chapman', 'should', 've'), 1), (('best', 'director', 'met', 'his', 'wife', 'on', 'the', 'set', 'of'), 1), (('best', 'actress', 'drama', 'i', 'got', 'totally', 'distracted', 'by', 'lea', 'michele', 's', 'spray'), 1), (('best', 'animated', 'feature', 'i', 'think', 'brenda', 'chapman', 'should', 've', 'been', 'there', 'accepting'), 1)]\n"
     ]
    }
   ],
   "source": [
    "#Strategy 1 scan after the word won:\n",
    "df2 = df[df['text'].str.contains(\" won \") | df['text'].str.contains(\" Won \")]\n",
    "tweets = df2['text'].tolist()\n",
    "keywords = []\n",
    "#regexp = re.compile(r'[!?.;#]+(?=$|\\s)')\n",
    "regexp = re.compile(r'[!?.;#,@]')\n",
    "\n",
    "stop_words = ['for','at','in','and','because','but','tonight','before','lol']\n",
    "\n",
    "#Parse Keywords. All phrase after 'won best' will be captured.\n",
    "for tweet in tweets:\n",
    "    words = tweet.lower().split()\n",
    "    index_won = words.index(\"won\")\n",
    "    if words[index_won + 1] == \"best\":\n",
    "        keyword = \"best \"\n",
    "        curr_index = index_won + 2\n",
    "        while curr_index != len(words):\n",
    "            if regexp.search(words[curr_index]) or words[curr_index] in stop_words:\n",
    "                #keyword += words[curr_index]\n",
    "                keyword = keyword.strip()\n",
    "                break\n",
    "            keyword += words[curr_index] + \" \"\n",
    "            curr_index += 1\n",
    "        keywords.append(keyword)\n",
    "\n",
    "strategy1 = common_phrases(keywords)\n",
    "print(strategy1)"
   ],
   "metadata": {
    "collapsed": false,
    "pycharm": {
     "name": "#%%\n"
    }
   }
  },
  {
   "cell_type": "code",
   "execution_count": 69,
   "outputs": [
    {
     "name": "stdout",
     "output_type": "stream",
     "text": [
      "[(('best', 'actress'), 148), (('best', 'supporting'), 142), (('best', 'motion'), 115), (('best', 'actor'), 96), (('best', 'original'), 39), (('best', 'screenplay'), 36), (('best', 'director'), 36), (('best', 'tv'), 33), (('best', 'animated'), 17), (('best', 'foreign'), 15), (('best', 'speech'), 13), (('best', 'comedy'), 9), (('best', 'drama'), 8), (('best', 'performance'), 8), (('best', 'picture'), 8), (('best', 'miniseries'), 7), (('best', 'mini'), 5), (('best', 'movie'), 4), (('best', 'television'), 4), (('best', 'dressed'), 3), (('best', 'goldenglobes'), 3), (('best', 'editing'), 3), (('best', 'sound'), 2), (('best', 'use'), 2), (('best', 'musical'), 2), (('best', 'gay'), 2), (('best', 'presenters'), 2), (('best', 'tan'), 2), (('best', 'hair'), 2), (('best', 'humans'), 1), (('best', 'imitation'), 1), (('best', 'political'), 1), (('best', 'awkward'), 1), (('best', 'originalscore'), 1), (('best', 'painted'), 1), (('best', 'song'), 1), (('best', 'swallowed'), 1), (('best', 'acceptance'), 1), (('best', 'lesbian'), 1), (('best', 'golden'), 1), (('best', 'outfit'), 1), (('best', 'affair'), 1), (('best', 'real'), 1), (('best', 'accessory'), 1), (('best', 'punchline'), 1), (('best', 'comedic'), 1), (('best', 'drunken'), 1), (('best', 'i'), 1), (('best', 'disapperaing'), 1), (('best', 'penguin'), 1), (('best', 'future'), 1), (('best', 'series'), 1), (('best', 'theme'), 1), (('best', 'direction'), 1), (('best', 'pic'), 1), (('best', 'livetweeter'), 1), (('best', 'film'), 1), (('best', 'jury'), 1), (('best', 'motion', 'picture'), 115), (('best', 'actress', 'in'), 101), (('best', 'supporting', 'actor'), 80), (('best', 'supporting', 'actress'), 58), (('best', 'actor', 'in'), 53), (('best', 'original', 'song'), 30), (('best', 'actor', 'tv'), 16), (('best', 'tv', 'series'), 15), (('best', 'animated', 'feature'), 13), (('best', 'tv', 'comedy'), 11), (('best', 'director', 'for'), 11), (('best', 'actress', 'tv'), 10), (('best', 'original', 'score'), 9), (('best', 'foreign', 'film'), 9), (('best', 'actor', 'for'), 8), (('best', 'director', 'motion'), 8), (('best', 'miniseries', 'or'), 7), (('best', 'performance', 'by'), 7), (('best', 'actress', 'for'), 7), (('best', 'screenplay', 'motion'), 6), (('best', 'foreign', 'language'), 6), (('best', 'actress', 'drama'), 6), (('best', 'speech', 'award'), 6), (('best', 'tv', 'drama'), 5), (('best', 'actor', 'comedy'), 5), (('best', 'mini', 'series'), 4), (('best', 'speech', 'of'), 4), (('best', 'animated', 'film'), 4), (('best', 'comedy', 'or'), 4), (('best', 'actress', 'motion'), 4), (('best', 'actor', 'drama'), 4), (('best', 'television', 'series'), 3), (('best', 'drama', 'tv'), 3), (('best', 'comedy', 'musical'), 3), (('best', 'use', 'of'), 2), (('best', 'gay', 'porn'), 2), (('best', 'actress', 'comedy'), 2), (('best', 'supporting', 'hug'), 2), (('best', 'screenplay', 'in'), 2), (('best', 'dressed', 'of'), 2), (('best', 'tan', 'by'), 2), (('best', 'director', 'of'), 2), (('best', 'actor', 'musical'), 2), (('best', 'picture', 'comedy'), 2), (('best', 'picture', 'drama'), 2), (('best', 'movie', 'miniseries'), 1), (('best', 'tv', 'mini'), 1), (('best', 'actress', 'mini'), 1), (('best', 'supporting', 'role'), 1), (('best', 'drama', 'series'), 1), (('best', 'imitation', 'of'), 1), (('best', 'political', 'shart'), 1), (('best', 'television', 'drama'), 1), (('best', 'awkward', 'moment'), 1), (('best', 'originalscore', 'montionpicture'), 1), (('best', 'musical', 'score'), 1), (('best', 'painted', 'on'), 1), (('best', 'swallowed', 'rooster'), 1), (('best', 'acceptance', 'speech'), 1), (('best', 'lesbian', 'in'), 1), (('best', 'goldenglobes', 'acceptance'), 1), (('best', 'golden', 'globes'), 1), (('best', 'outfit', 'of'), 1), (('best', 'affair', 'ever'), 1), (('best', 'tv', 'movie'), 1), (('best', 'real', 'life'), 1), (('best', 'accessory', 'of'), 1), (('best', 'punchline', 'by'), 1), (('best', 'comedic', 'combo'), 1), (('best', 'presenters', 'ever'), 1), (('best', 'presenters', 'so'), 1), (('best', 'supporting', 'handjob'), 1), (('best', 'screenplay', 'for'), 1), (('best', 'mini', 'actor'), 1), (('best', 'drunken', 'acceptance'), 1), (('best', 'i', 'm'), 1), (('best', 'disapperaing', 'act'), 1), (('best', 'penguin', 'walking'), 1), (('best', 'future', 'gif'), 1), (('best', 'actress', 'television'), 1), (('best', 'goldenglobes', 'speech'), 1), (('best', 'series', 'of'), 1), (('best', 'theme', 'of'), 1), (('best', 'comedy', 'series'), 1), (('best', 'movie', 'comedy'), 1), (('best', 'pic', 'for'), 1), (('best', 'picture', 'musical'), 1), (('best', 'musical', 'comedy'), 1), (('best', 'actor', 'motion'), 1), (('best', 'livetweeter', 'of'), 1), (('best', 'actor', 'film'), 1), (('best', 'movie', 'award'), 1), (('best', 'film', 'drama'), 1), (('best', 'drama', 'film'), 1), (('best', 'drama', 'just'), 1), (('best', 'speech', 'yet'), 1), (('best', 'goldenglobes', 'analysis'), 1), (('best', 'actress', 'in', 'a'), 100), (('best', 'motion', 'picture', 'drama'), 99), (('best', 'supporting', 'actor', 'motion'), 49), (('best', 'actor', 'in', 'a'), 49), (('best', 'supporting', 'actress', 'tv'), 22), (('best', 'supporting', 'actor', 'in'), 21), (('best', 'supporting', 'actress', 'in'), 20), (('best', 'actor', 'tv', 'series'), 15), (('best', 'animated', 'feature', 'film'), 10), (('best', 'director', 'for', 'motion'), 10), (('best', 'tv', 'series', 'drama'), 9), (('best', 'actor', 'for', 'tv'), 8), (('best', 'director', 'motion', 'picture'), 8), (('best', 'motion', 'picture', 'comedy'), 8), (('best', 'miniseries', 'or', 'tv'), 7), (('best', 'performance', 'by', 'an'), 7), (('best', 'tv', 'comedy', 'musical'), 7), (('best', 'original', 'song', 'category'), 6), (('best', 'screenplay', 'motion', 'picture'), 6), (('best', 'foreign', 'language', 'film'), 6), (('best', 'actress', 'tv', 'drama'), 5), (('best', 'actress', 'tv', 'series'), 5), (('best', 'actor', 'comedy', 'musical'), 5), (('best', 'supporting', 'actress', 'for'), 4), (('best', 'speech', 'of', 'the'), 4), (('best', 'actress', 'for', 'comedy'), 4), (('best', 'comedy', 'or', 'musical'), 4), (('best', 'actress', 'motion', 'picture'), 4), (('best', 'mini', 'series', 'or'), 3), (('best', 'actor', 'in', 'tv'), 3), (('best', 'original', 'song', 'motion'), 3), (('best', 'original', 'song', 'in'), 2), (('best', 'gay', 'porn', 'face'), 2), (('best', 'supporting', 'actress', 'motion'), 2), (('best', 'screenplay', 'in', 'a'), 2), (('best', 'dressed', 'of', 'the'), 2), (('best', 'tan', 'by', 'an'), 2), (('best', 'drama', 'tv', 'actress'), 2), (('best', 'tv', 'series', 'actress'), 2), (('best', 'director', 'of', 'a'), 2), (('best', 'tv', 'series', 'comedy'), 2), (('best', 'actor', 'musical', 'or'), 2), (('best', 'picture', 'comedy', 'or'), 2), (('best', 'actress', 'for', 'motion'), 2), (('best', 'motion', 'picture', 'in'), 2), (('best', 'supporting', 'actor', 'award'), 1), (('best', 'mini', 'series', 'tv'), 1), (('best', 'tv', 'mini', 'series'), 1), (('best', 'actress', 'mini', 'series'), 1), (('best', 'tv', 'drama', 'actor'), 1), (('best', 'actor', 'tv', 'drama'), 1), (('best', 'supporting', 'role', 'tonight'), 1), (('best', 'imitation', 'of', 'snl'), 1), (('best', 'television', 'series', 'actor'), 1), (('best', 'drama', 'tv', 'series'), 1), (('best', 'tv', 'drama', 'series'), 1), (('best', 'original', 'score', 'award'), 1), (('best', 'original', 'score', 'for'), 1), (('best', 'use', 'of', 'a'), 1), (('best', 'originalscore', 'montionpicture', 'goldenglobes'), 1), (('best', 'painted', 'on', 'dress'), 1), (('best', 'original', 'song', 'award'), 1), (('best', 'lesbian', 'in', 'a'), 1), (('best', 'goldenglobes', 'acceptance', 'speech'), 1), (('best', 'golden', 'globes', 'acceptance'), 1), (('best', 'outfit', 'of', 'the'), 1), (('best', 'use', 'of', 'monotone'), 1), (('best', 'tv', 'movie', 'or'), 1), (('best', 'real', 'life', 'quote'), 1), (('best', 'accessory', 'of', 'the'), 1), (('best', 'punchline', 'by', 'an'), 1), (('best', 'actress', 'comedy', 'or'), 1), (('best', 'presenters', 'so', 'far'), 1), (('best', 'motion', 'picture', 'screenplay'), 1), (('best', 'screenplay', 'for', 'a'), 1), (('best', 'mini', 'actor', 'in'), 1), (('best', 'drunken', 'acceptance', 'speech'), 1), (('best', 'tv', 'drama', 'actress'), 1), (('best', 'i', 'm', 'a'), 1), (('best', 'animated', 'film', 'globe'), 1), (('best', 'actress', 'in', 'tv'), 1), (('best', 'tv', 'comedy', 'actress'), 1), (('best', 'penguin', 'walking', 'impression'), 1), (('best', 'future', 'gif', 'of'), 1), (('best', 'actress', 'television', 'comedy'), 1), (('best', 'series', 'of', 'non'), 1), (('best', 'director', 'for', 'a'), 1), (('best', 'television', 'series', 'comedy'), 1), (('best', 'theme', 'of', 'the'), 1), (('best', 'tv', 'comedy', 'or'), 1), (('best', 'actor', 'in', 'motion'), 1), (('best', 'movie', 'comedy', 'musical'), 1), (('best', 'comedy', 'musical', 'motion'), 1), (('best', 'pic', 'for', 'comedy'), 1), (('best', 'picture', 'musical', 'comedy'), 1), (('best', 'actor', 'motion', 'picture'), 1), (('best', 'actress', 'for', 'a'), 1), (('best', 'livetweeter', 'of', 'the'), 1), (('best', 'actor', 'film', 'drama'), 1), (('best', 'drama', 'film', 'is'), 1), (('best', 'comedy', 'musical', 'goldenglobes'), 1), (('best', 'television', 'series', 'for'), 1), (('best', 'supporting', 'actress', 'tv', 'series', 'miniseries', 'or', 'tv', 'movie'), 22), (('best', 'supporting', 'actor', 'in', 'a', 'tv', 'show', 'miniseries', 'or'), 8), (('best', 'actress', 'in', 'a', 'motion', 'picture', 'comedy', 'or', 'musical'), 6), (('best', 'supporting', 'actress', 'in', 'a', 'tv', 'movie', 'series', 'or'), 2), (('best', 'actress', 'in', 'a', 'mini', 'series', 'or', 'tv', 'movie'), 2), (('best', 'performance', 'by', 'an', 'actress', 'in', 'a', 'motion', 'picture'), 2), (('best', 'supporting', 'actress', 'in', 'tv', 'series', 'mini', 'series', 'or'), 1), (('best', 'supporting', 'actress', 'in', 'a', 'tv', 'show', 'miniseries', 'or'), 1), (('best', 'lesbian', 'in', 'a', 'back', 'stage', 'candid', 'video', 'cameo'), 1), (('best', 'performance', 'by', 'an', 'actor', 'in', 'a', 'mini', 'series'), 1), (('best', 'performance', 'by', 'an', 'actor', 'in', 'a', 'miniseries', 'or'), 1), (('best', 'actor', 'in', 'a', 'mini', 'series', 'or', 'motion', 'picture'), 1), (('best', 'performance', 'by', 'an', 'actress', 'in', 'a', 'comedy', 'or'), 1), (('best', 'supporting', 'actor', 'in', 'a', 'tv', 'series', 'or', 'movie'), 1), (('best', 'actor', 'in', 'a', 'tv', 'series', 'comedy', 'or', 'musical'), 1), (('best', 'actor', 'in', 'a', 'television', 'series', 'in', 'a', 'comedy'), 1), (('best', 'performance', 'by', 'an', 'actress', 'in', 'a', 'tv', 'series'), 1), (('best', 'i', 'm', 'a', 'bi', 'polar', 'cia', 'agent', 'who'), 1), (('best', 'tv', 'series', 'actress', 'in', 'a', 'comedy', 'or', 'musical'), 1), (('best', 'performance', 'by', 'an', 'actor', 'in', 'a', 'motion', 'picture'), 1), (('best', 'performance', 'by', 'an', 'actor', 'in', 'a', 'mini', 'series', 'or', 'movie', 'made'), 1), (('best', 'actor', 'in', 'a', 'mini', 'series', 'or', 'motion', 'picture', 'made', 'for', 'television'), 1), (('best', 'supporting', 'actor', 'in', 'a', 'tv', 'show', 'miniseries', 'or', 'tv', 'movie', 'award'), 1), (('best', 'i', 'm', 'a', 'bi', 'polar', 'cia', 'agent', 'who', 'just', 'had', 'a'), 1), (('best', 'performance', 'by', 'an', 'actor', 'in', 'a', 'motion', 'picture', 'comedy', 'or', 'musical'), 1)]\n"
     ]
    },
    {
     "data": {
      "text/plain": "[('best', 90),\n ('best director', 40),\n ('best actress', 26),\n ('best original song', 22),\n ('best actor', 20),\n ('best supporting', 14),\n ('best original', 12),\n ('best supporting actor', 11),\n ('best supporting actress', 10),\n ('best screenplay', 10),\n ('best picture', 10),\n ('best song', 7),\n ('best performance by an actress', 6),\n ('best motion picture', 5),\n ('best drama', 4),\n ('best animated feature', 4),\n ('best movie', 4),\n ('best tv', 3),\n ('best foreign film', 3),\n ('best foreign', 3),\n ('best dressed', 2),\n ('best performance by an actor', 2),\n ('best comedy or musical', 2),\n ('best motion picture -', 2),\n ('best actress on mini', 1),\n ('best actor on a drama', 1),\n ('best tv drama', 1),\n ('best original score', 1),\n ('best skin tight', 1),\n ('best motion picture drama', 1),\n ('best supporting actress😁✊', 1),\n ('best original song motion picture', 1),\n ('best supporting performance', 1),\n ('best screenplay -', 1),\n ('best screenplay/motion picture', 1),\n ('best original screenplay', 1),\n ('best blurry picture with a', 1),\n ('best foreign language', 1),\n (\"best actress drama i got totally distracted by lea michele's spray tan overdose\",\n  1),\n ('best animated', 1),\n ('best animated movie a year it made a', 1),\n ('best animated picture', 1),\n (\"best animated feature i think brenda chapman should've been there accepting\",\n  1),\n ('best life time achievement', 1),\n ('best tv series:', 1),\n ('best tv show musical/comedy', 1),\n ('best tv comedy', 1),\n ('best tv series - comedy or', 1),\n ('best anal sex', 1),\n ('best husband', 1),\n ('best motion picture - musical or comedy', 1),\n ('best picture (musical/comedy)', 1),\n ('best film', 1),\n ('best comedy/', 1),\n ('best picture -', 1),\n ('best director met his wife on the set of', 1),\n ('best motion picture - comedy or musical', 1),\n ('best motion', 1),\n ('best picture :) one of my favorite movies last', 1),\n ('best movie definitely a game changer', 1),\n ('best comedy/musical', 1),\n ('best actor so all is', 1),\n ('best dressed hands', 1),\n ('best pic since the movie has a', 1),\n ('best picture on golden globes', 1),\n ('best tv series drama on the', 1)]"
     },
     "execution_count": 69,
     "metadata": {},
     "output_type": "execute_result"
    }
   ],
   "source": [
    "#Strategy 2 scan before the word won:\n",
    "df3 = df[df['text'].str.contains(\" goes to \")]\n",
    "tweets = df3['text'].tolist()\n",
    "keywords2 = []\n",
    "#Parse Backwards, stop at the word best\n",
    "for tweet in tweets:\n",
    "    words = tweet.lower().split()\n",
    "    index = words.index(\"to\")\n",
    "    if words[index - 1] == \"goes\":\n",
    "        keyword = \"\"\n",
    "        curr_index = index - 2\n",
    "        while curr_index >= 0:\n",
    "            if curr_index == 0 or words[curr_index] == \"best\":\n",
    "                keyword = words[curr_index] + keyword\n",
    "                break\n",
    "            keyword = \" \" + words[curr_index] + keyword\n",
    "            curr_index -= 1\n",
    "        keywords2.append(keyword)\n",
    "\n",
    "#print(keywords2)\n",
    "strategy2 = common_phrases(keywords2)\n",
    "print(strategy2)\n",
    "\n",
    "most_common_beststring(keywords)"
   ],
   "metadata": {
    "collapsed": false,
    "pycharm": {
     "name": "#%%\n"
    }
   }
  },
  {
   "cell_type": "code",
   "execution_count": 70,
   "outputs": [
    {
     "data": {
      "text/plain": "[('best motion picture drama', 93),\n ('best supporting actor, motion picture', 48),\n ('best actress in a tv comedy or musical', 29),\n ('best screenplay', 26),\n ('best supporting actress tv series, miniseries, or tv movie', 22),\n ('best original song', 18),\n ('best actor in a miniseries/tv movie', 17),\n ('best actress', 16),\n ('best director', 15),\n ('best actor tv series - comedy or musical', 14),\n ('best actress in a mini-series/tv movie', 13),\n ('best actress in a motion picture drama', 13),\n ('best supporting actress in a motion picture', 12),\n ('best actor in a motion picture drama', 12),\n ('best supporting actress', 10),\n ('best director for motion picture', 10),\n ('best foreign film', 9),\n ('best animated feature film', 9),\n ('best supporting actor', 8),\n ('best director - motion picture', 8),\n ('best original score', 7),\n ('best supporting actor in a tv show, miniseries or tv movie', 7),\n ('best actress in a tv series, drama,', 7),\n ('best tv comedy/musical', 7),\n ('best miniseries or tv movie', 6),\n ('best actor for tv drama', 6),\n ('best original song category, the golden globe', 6),\n ('best supporting actor in tv', 6),\n ('best foreign language film', 6),\n ('best actress in a tv comedy/musical', 6),\n ('best actor in a motion picture comedy/musical', 6),\n ('best actor', 6),\n ('best supporting actor in a motion picture', 5),\n ('best actress in a motion picture comedy or musical', 5),\n ('best actress, tv drama', 5),\n ('best actor, comedy/musical', 5),\n ('best motion picture', 5),\n ('rt @rarariot: most sincere/best speech award', 5),\n ('best tv series - drama', 4),\n ('best speech of the night', 4),\n ('best actress for comedy/musical', 4),\n ('best actress tv series comedy', 4),\n ('best comedy or musical', 4),\n ('best actress in a miniseries or tv movie', 3),\n ('best actress in a comedy or musical', 3),\n ('best editing', 3),\n ('best actress in a tv drama', 3),\n ('best animated film', 3),\n ('best animated feature', 3),\n ('best motion picture, comedy/musical', 3),\n ('best actor drama', 3),\n ('best motion picture - drama', 3),\n ('best picture', 3),\n ('best supporting actress in a tv movie, series, or miniseries', 2),\n ('best mini series or tv movie', 2),\n ('best actress in a mini series or tv movie', 2),\n ('best tv series drama', 2),\n ('best tv series', 2),\n ('best tv drama', 2),\n ('rt @albz: and \"best sound\"', 2),\n ('best original song motion picture', 2),\n ('best original song in a motion picture', 2),\n ('best gay porn face', 2),\n ('best supporting actress motion picture', 2),\n ('best supporting hug', 2),\n ('best supporting actress for motion picture', 2),\n ('best screenplay in a motion picture', 2),\n ('best screenplay - motion picture', 2),\n ('best screenplay, motion picture', 2),\n ('best actor in a comedy', 2),\n ('best speech', 2),\n ('best tan by an actress', 2),\n ('best drama tv actress', 2),\n ('best actress in a tv comedy', 2),\n ('best actress in a comedy', 2),\n ('best actress in a comedy or musical series', 2),\n ('best director of a motion picture', 2),\n ('best tv comedy', 2),\n ('best picture: comedy or musical', 2),\n ('best actress (drama)', 2),\n ('best actress drama', 2),\n ('best actress for motion picture- drama-', 2),\n ('best actress in a motion picture for drama', 2),\n ('best hair', 2),\n ('best drama', 2),\n ('best motion picture in drama', 2),\n ('best supporting actor in a movie', 1),\n ('the @goldenglobes award for \"best supporting actor\"', 1),\n ('best supporting actor award', 1),\n ('best supporting actress for tv, miniseries, etc. -', 1),\n ('best supporting actress for tv', 1),\n ('best supporting actress in a television series', 1),\n ('best supporting actress in tv series, mini-series or tv movie', 1),\n ('best supporting actress in a tv show, miniseries or tv movie', 1),\n ('best actress in a tv series', 1),\n ('best supporting actress in a tv series', 1),\n ('best mini-series or tv', 1),\n ('best movie/miniseries', 1),\n ('best mini-series/tv movie', 1),\n ('best miniseries or tv movie award', 1),\n ('best tv mini-series', 1),\n ('best actress - mini-series', 1),\n ('best actress in a mini-series, tv movie', 1),\n ('best actor in a tv series or drama', 1),\n ('best tv drama actor', 1),\n ('best actor in a tv drama award', 1),\n ('best actor for tv series drama', 1),\n ('best actor in tv series', 1),\n ('best actor tv series drama', 1),\n ('best actor tv drama award', 1),\n ('best actor in tv drama', 1),\n ('best supporting role tonight', 1),\n ('best tv series (drama)', 1),\n ('best tv series- drama', 1),\n ('best actor in tv series-drama', 1),\n ('best drama series', 1),\n ('best dressed', 1),\n ('the @goldenglobes award for \"best tv series - drama\"', 1),\n ('best humans', 1),\n (\"best imitation of snl's homeland sketch\", 1),\n ('best television series actor', 1),\n ('best drama tv series', 1),\n ('best political shart', 1),\n ('best television drama', 1),\n ('best tv drama series', 1),\n ('best awkward moment', 1),\n ('“best supporting actor, motion picture', 1),\n ('best original score award', 1),\n ('best original score for a film', 1),\n ('best use of a large doily', 1),\n ('#best #originalscore #montionpicture #goldenglobes', 1),\n ('best musical score', 1),\n ('best painted on dress', 1),\n ('best original song award', 1),\n ('best original song - motion picture', 1),\n ('best song', 1),\n ('best swallowed rooster', 1),\n ('best performance', 1),\n ('best acceptance speech', 1),\n ('best lesbian in a back-stage candid video cameo', 1),\n ('best #goldenglobes acceptance speech so far', 1),\n ('best golden globes acceptance speech', 1),\n ('best outfit of the night', 1),\n ('best performance by an actor in a mini series or movie made for tv', 1),\n ('best actor in a tv miniseries', 1),\n ('\"best performance by an actor in a miniseries or tv film \"', 1),\n ('#bestactor for #miniseries or #tvseries #goldenglobes', 1),\n ('best actor in a mini-series or motion picture made for television', 1),\n ('best affair ever', 1),\n ('rt @bashville: and the award for \"best use of monotone in an acceptance speech\"',\n  1),\n ('best tv movie or miniseries actor', 1),\n ('best real life quote award', 1),\n ('best accessory of the night', 1),\n ('best actress comedy', 1),\n ('best performance by an actress in a comedy or musical', 1),\n ('best punchline by an actress', 1),\n ('best actress comedy or musical', 1),\n ('best actress in a musical or comedy', 1),\n ('best actress in a motion picture (comedy or musical)', 1),\n ('best comedic combo', 1),\n ('best actress in a motion picture musical/comedy', 1),\n ('best presenters ever', 1),\n ('best presenters so far', 1),\n ('best supporting actor in a tv show, miniseries or tv movie award', 1),\n ('best supporting handjob', 1),\n ('best supporting actress in a motion picture drama', 1),\n ('best supporting actress in a comedy or musical', 1),\n ('best supporting actor in a tv series or movie', 1),\n ('the @goldenglobes award for \"best screenplay - motion picture\"', 1),\n ('best motion picture screenplay', 1),\n ('best screenplay motion picture', 1),\n ('holy s**t!best screenplay', 1),\n ('best screenplay for a motion picture', 1),\n ('best mini-actor in a series', 1),\n ('best drunken acceptance speech of the night', 1),\n ('best actor in a tv series - comedy or musical', 1),\n ('best actor for tv series comedy or musical', 1),\n ('best actor in a television series in a comedy or musical', 1),\n ('best dressed of the night easily', 1),\n ('best actor in a tv series', 1),\n ('best tv drama actress', 1),\n ('best performance by an actress in a tv series, drama', 1),\n ('best actress tv series drama', 1),\n (\"best i'm a bi-polar cia agent who just had a baby in real life a month ago &amp; am rocking this red dress\",\n  1),\n ('best animated film globe', 1),\n ('best disapperaing act', 1),\n ('best actress in tv comedy/musical', 1),\n ('best actress in a tv series comedy/musical', 1),\n ('best animated feature film:)', 1),\n ('best tv comedy actress', 1),\n ('best tv series actress in a comedy or musical', 1),\n ('best penguin walking impression', 1),\n ('best tv series actress in comedy or musical', 1),\n ('best future gif of the night', 1),\n ('best actress in a television series drama', 1),\n ('best actress, television comedy or musical', 1),\n ('best #goldenglobes speech', 1),\n ('best series of non sequiturs', 1),\n ('best director for a motion picture', 1),\n ('best television series, comedy or musical', 1),\n ('best theme of the night', 1),\n ('best tv series comedy award', 1),\n ('best tv series - comedy', 1),\n ('best tv comedy or musical', 1),\n ('best comedy series', 1),\n ('best direction', 1),\n ('best comedy', 1),\n ('best actor in a movie, musical or comedy', 1),\n ('best actor in a comedy film', 1),\n ('best performance by an actor in a motion picture, comedy or musical', 1),\n ('best actor musical or comedy', 1),\n ('best actor in motion picture', 1),\n ('best actor, musical or comedy', 1),\n ('best actor in a motion picture, comedy/musical', 1),\n ('best comedy/musical', 1),\n ('#bestmotionpicture', 1),\n ('best movie - comedy/musical', 1),\n ('best motion picture - comedy or musical', 1),\n ('best motion picture- comedy or musical', 1),\n ('best comedy/musical motion picture', 1),\n ('best motion picture comedy or musical', 1),\n ('best pic for comedy musical', 1),\n ('best motion picture, comedy or musical', 1),\n ('best movie', 1),\n ('best motion picture - comedy/musical', 1),\n ('best picture (musical/comedy)', 1),\n ('best musical/comedy', 1),\n ('best actress, motion picture drama', 1),\n ('best performance by an actress in a motion picture, drama', 1),\n ('best actress - drama', 1),\n ('best actress (motion picture - drama)', 1),\n ('best performance by an actress in a motion picture - drama', 1),\n ('most sincere/best speech award', 1),\n ('best actress, motion picture/drama', 1),\n ('best actress motion picture drama', 1),\n ('and the award for cutest besties', 1),\n ('best actor, motion picture drama', 1),\n ('best actor in a drama', 1),\n ('best actor in a motion picture, drama', 1),\n ('best actress for a motion picture drama', 1),\n ('best livetweeter of the golden globes', 1),\n ('best actor, drama', 1),\n ('best actress, drama', 1),\n ('best actor (film/drama)', 1),\n ('best movie award', 1),\n ('best film drama', 1),\n ('best motion picture - drama -', 1),\n ('best picture - drama', 1),\n ('best picture drama,', 1),\n ('best drama film is', 1),\n ('best drama. just', 1),\n ('best motion picture (drama)', 1),\n ('best speech yet', 1),\n ('best #goldenglobes analysis', 1),\n ('\"best motion picture drama', 1),\n ('best dressed of the night at the #goldenglobes', 1),\n ('#bestdressed #goldenglobes #goldenglobes2013', 1),\n ('best comedy/musical #goldenglobes', 1),\n ('best jury', 1),\n ('best actress in a drama', 1),\n ('best television series for comedy or musical', 1)]"
     },
     "execution_count": 70,
     "metadata": {},
     "output_type": "execute_result"
    }
   ],
   "source": [
    "most_common_beststring(keywords2)\n"
   ],
   "metadata": {
    "collapsed": false,
    "pycharm": {
     "name": "#%%\n"
    }
   }
  },
  {
   "cell_type": "code",
   "execution_count": null,
   "outputs": [],
   "source": [],
   "metadata": {
    "collapsed": false,
    "pycharm": {
     "name": "#%%\n"
    }
   }
  }
 ],
 "metadata": {
  "kernelspec": {
   "name": "pycharm-6f190720",
   "language": "python",
   "display_name": "PyCharm (The_Golden_Globes_Mining)"
  },
  "language_info": {
   "codemirror_mode": {
    "name": "ipython",
    "version": 3
   },
   "file_extension": ".py",
   "mimetype": "text/x-python",
   "name": "python",
   "nbconvert_exporter": "python",
   "pygments_lexer": "ipython3",
   "version": "3.8.8"
  }
 },
 "nbformat": 4,
 "nbformat_minor": 5
}
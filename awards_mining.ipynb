{
 "cells": [
  {
   "cell_type": "code",
   "execution_count": 380,
   "id": "7a20ece5-2a04-42c2-86f4-b3a6129fc6a3",
   "metadata": {},
   "outputs": [],
   "source": [
    "import json \n",
    "import pandas as pd\n",
    "import re\n",
    "import nltk\n",
    "from nltk.util import ngrams\n",
    "from collections import Counter\n",
    "\n",
    "df = pd.read_json(\"./gg2013.json\")"
   ]
  },
  {
   "cell_type": "code",
   "execution_count": 381,
   "outputs": [],
   "source": [
    "#Analyze common phrase occurences\n",
    "'''\n",
    "Input: A list of strings after parsing\n",
    "Output: The most common grams containing 'best'\n",
    "Remarks:\n",
    "    1. Longest award phrase is 12 words\n",
    "'''\n",
    "def common_phrases(keywords):\n",
    "    bigrams = []\n",
    "    trigrams = []\n",
    "    quadgrams = []\n",
    "    multigrams = []\n",
    "    megagrams = []\n",
    "    for item in keywords:\n",
    "        clean_string = re.sub('[^A-Za-z0-9]+', ' ', item)\n",
    "        tokens = nltk.word_tokenize(clean_string)\n",
    "        grams2 = ngrams(tokens, 2)\n",
    "        grams3 = ngrams(tokens, 3)\n",
    "        grams4 = ngrams(tokens, 4)\n",
    "        grams9 = ngrams(tokens, 9)\n",
    "        grams12 = ngrams(tokens, 12)\n",
    "        for gram in grams2:\n",
    "            bigrams.append(gram)\n",
    "        for gram in grams3:\n",
    "            trigrams.append(gram)\n",
    "        for gram in grams4:\n",
    "            quadgrams.append(gram)\n",
    "        for gram in grams9:\n",
    "            multigrams.append(gram)\n",
    "        for gram in grams12:\n",
    "            megagrams.append(gram)\n",
    "\n",
    "    common2 = Counter(bigrams).most_common()\n",
    "    common3 = Counter(trigrams).most_common()\n",
    "    common4 = Counter(quadgrams).most_common()\n",
    "    common9 = Counter(multigrams).most_common()\n",
    "    common12 = Counter(megagrams).most_common()\n",
    "\n",
    "    common2 = filter(lambda x: x[0][0] == \"best\", common2)\n",
    "    common3 = filter(lambda x: x[0][0] == \"best\", common3)\n",
    "    common4 = filter(lambda x: x[0][0] == \"best\", common4)\n",
    "    common9 = filter(lambda x: x[0][0] == \"best\", common9)\n",
    "    common12 = filter(lambda x: x[0][0] == \"best\", common12)\n",
    "\n",
    "    common2 = list(common2)\n",
    "    common3 = list(common3)\n",
    "    common4 = list(common4)\n",
    "    common9 = list(common9)\n",
    "    common12 = list(common12)\n",
    "\n",
    "    combined = common2 + common3 + common4 + common9 + common12\n",
    "    return combined"
   ],
   "metadata": {
    "collapsed": false,
    "pycharm": {
     "name": "#%%\n"
    }
   }
  },
  {
   "cell_type": "code",
   "execution_count": 382,
   "outputs": [],
   "source": [
    "'''\n",
    "Input: List of strings\n",
    "Output: Strings with its frequency\n",
    "Remarks:\n",
    "    1. Can also count common strings in strings for strategy2\n",
    "'''\n",
    "def most_common_beststring(strings):\n",
    "    best_string = filter(lambda x: \"best\" in x, strings)\n",
    "    best_string = list(best_string)\n",
    "    return Counter(best_string).most_common()"
   ],
   "metadata": {
    "collapsed": false,
    "pycharm": {
     "name": "#%%\n"
    }
   }
  },
  {
   "cell_type": "code",
   "execution_count": 383,
   "outputs": [
    {
     "name": "stdout",
     "output_type": "stream",
     "text": [
      "[(('best', 'director'), 41), (('best', 'supporting'), 37), (('best', 'original'), 37), (('best', 'actress'), 28), (('best', 'actor'), 22), (('best', 'picture'), 14), (('best', 'screenplay'), 12), (('best', 'motion'), 11), (('best', 'tv'), 9), (('best', 'performance'), 8), (('best', 'animated'), 8), (('best', 'song'), 7), (('best', 'foreign'), 7), (('best', 'dressed'), 5), (('best', 'movie'), 5), (('best', 'drama'), 4), (('best', 'comedy'), 4), (('best', 'skin'), 1), (('best', 'blurry'), 1), (('best', 'life'), 1), (('best', 'anal'), 1), (('best', 'husband'), 1), (('best', 'film'), 1), (('best', 'pic'), 1), (('best', 'original', 'song'), 23), (('best', 'director', 'for'), 13), (('best', 'supporting', 'actor'), 11), (('best', 'supporting', 'actress'), 11), (('best', 'actor', 'in'), 11), (('best', 'motion', 'picture'), 10), (('best', 'actress', 'for'), 9), (('best', 'performance', 'by'), 8), (('best', 'actress', 'in'), 6), (('best', 'actor', 'for'), 5), (('best', 'screenplay', 'for'), 5), (('best', 'animated', 'feature'), 5), (('best', 'foreign', 'film'), 3), (('best', 'song', 'in'), 2), (('best', 'tv', 'series'), 2), (('best', 'comedy', 'or'), 2), (('best', 'tv', 'drama'), 1), (('best', 'original', 'score'), 1), (('best', 'song', 'for'), 1), (('best', 'skin', 'tight'), 1), (('best', 'supporting', 'performance'), 1), (('best', 'screenplay', 'motion'), 1), (('best', 'original', 'screenplay'), 1), (('best', 'blurry', 'picture'), 1), (('best', 'foreign', 'language'), 1), (('best', 'actress', 'drama'), 1), (('best', 'animated', 'movie'), 1), (('best', 'animated', 'picture'), 1), (('best', 'life', 'time'), 1), (('best', 'tv', 'show'), 1), (('best', 'director', 'in'), 1), (('best', 'tv', 'comedy'), 1), (('best', 'anal', 'sex'), 1), (('best', 'picture', 'musical'), 1), (('best', 'director', 'met'), 1), (('best', 'picture', 'for'), 1), (('best', 'dressed', 'in'), 1), (('best', 'movie', 'definitely'), 1), (('best', 'comedy', 'musical'), 1), (('best', 'actor', 'so'), 1), (('best', 'dressed', 'hands'), 1), (('best', 'picture', 'in'), 1), (('best', 'original', 'song', 'for'), 16), (('best', 'performance', 'by', 'an'), 8), (('best', 'actor', 'in', 'a'), 7), (('best', 'supporting', 'actor', 'for'), 5), (('best', 'actress', 'in', 'a'), 5), (('best', 'supporting', 'actress', 'for'), 5), (('best', 'supporting', 'actor', 'in'), 3), (('best', 'screenplay', 'for', 'django'), 3), (('best', 'director', 'for', 'argo'), 3), (('best', 'song', 'in', 'a'), 2), (('best', 'actress', 'for', 'silver'), 2), (('best', 'actress', 'for', 'keeping'), 2), (('best', 'supporting', 'actress', 'in'), 2), (('best', 'actor', 'in', 'the'), 2), (('best', 'comedy', 'or', 'musical'), 2), (('best', 'actress', 'for', 'her'), 1), (('best', 'actor', 'for', 'django'), 1), (('best', 'actor', 'for', 'a'), 1), (('best', 'actor', 'for', 'tv'), 1), (('best', 'original', 'score', 'for'), 1), (('best', 'original', 'song', 'in'), 1), (('best', 'actor', 'in', 'tv'), 1), (('best', 'director', 'for', 'dances'), 1), (('best', 'motion', 'picture', 'drama'), 1), (('best', 'actress', 'for', 'a'), 1), (('best', 'actress', 'for', 'les'), 1), (('best', 'original', 'song', 'motion'), 1), (('best', 'supporting', 'performance', 'in'), 1), (('best', 'screenplay', 'motion', 'picture'), 1), (('best', 'original', 'screenplay', 'for'), 1), (('best', 'blurry', 'picture', 'with'), 1), (('best', 'animated', 'movie', 'a'), 1), (('best', 'animated', 'picture', 'in'), 1), (('best', 'life', 'time', 'achievement'), 1), (('best', 'tv', 'show', 'musical'), 1), (('best', 'director', 'in', 'the'), 1), (('best', 'director', 'for', 'the'), 1), (('best', 'tv', 'series', 'comedy'), 1), (('best', 'actor', 'in', 'comedy'), 1), (('best', 'motion', 'picture', 'musical'), 1), (('best', 'picture', 'musical', 'comedy'), 1), (('best', 'motion', 'picture', 'for'), 1), (('best', 'director', 'met', 'his'), 1), (('best', 'actress', 'in', 'both'), 1), (('best', 'motion', 'picture', 'comedy'), 1), (('best', 'actress', 'for', 'zero'), 1), (('best', 'dressed', 'in', 'my'), 1), (('best', 'movie', 'definitely', 'a'), 1), (('best', 'actor', 'so', 'all'), 1), (('best', 'picture', 'in', 'the'), 1), (('best', 'tv', 'series', 'drama'), 1), (('best', 'supporting', 'actor', 'in', 'a', 'motion', 'picture', 'for', 'django'), 2), (('best', 'actress', 'in', 'a', 'tv', 'series', 'drama', 'and', 'probably'), 2), (('best', 'performance', 'by', 'an', 'actor', 'in', 'a', 'motion', 'picture'), 2), (('best', 'supporting', 'actor', 'for', 'his', 'work', 'in', 'quentin', 'tarantino'), 1), (('best', 'actress', 'in', 'a', 'musical', 'for', 'some', 'like', 'it'), 1), (('best', 'original', 'song', 'in', 'a', 'motion', 'picture', 'for', 'skyfall'), 1), (('best', 'song', 'in', 'a', 'motion', 'picture', 'skyfall', 'james', 'bond'), 1), (('best', 'supporting', 'performance', 'in', 'a', 'series', 'mini', 'series', 'tv'), 1), (('best', 'screenplay', 'for', 'django', 'apparently', 'there', 's', 'a', 'solid'), 1), (('best', 'supporting', 'actor', 'in', 'a', 'motion', 'picture', 'django', 'unchained'), 1), (('best', 'actor', 'in', 'a', 'musical', 'or', 'comedy', 'for', 'his'), 1), (('best', 'actor', 'in', 'comedy', 'or', 'musical', 'for', 'the', 'golden'), 1), (('best', 'movie', 'definitely', 'a', 'game', 'changer', 'for', 'the', 'oscars'), 1), (('best', 'supporting', 'actress', 'in', 'a', 'motion', 'picture', 'for', 'les'), 1), (('best', 'actress', 'in', 'a', 'tv', 'series', 'drama', 'and', 'probably', 'many', 'best', 'dressed'), 2), (('best', 'supporting', 'actor', 'for', 'his', 'work', 'in', 'quentin', 'tarantino', 's', 'django', 'unchained'), 1), (('best', 'screenplay', 'for', 'django', 'apparently', 'there', 's', 'a', 'solid', 'plot', 'beneath', 'the'), 1), (('best', 'performance', 'by', 'an', 'actor', 'in', 'a', 'motion', 'picture', 'musical', 'or', 'comedy'), 1), (('best', 'actor', 'in', 'a', 'musical', 'or', 'comedy', 'for', 'his', 'role', 'in', 'les'), 1), (('best', 'performance', 'by', 'an', 'actor', 'in', 'a', 'motion', 'picture', 'drama', 'for', 'lincoln'), 1)]\n"
     ]
    }
   ],
   "source": [
    "#Strategy 1 scan after the word won:\n",
    "df2 = df[df['text'].str.contains(\" won \") | df['text'].str.contains(\" Won \")]\n",
    "tweets = df2['text'].tolist()\n",
    "keywords = []\n",
    "#regexp = re.compile(r'[!?.;#]+(?=$|\\s)')\n",
    "regexp = re.compile(r'[!?.;#,@:]')\n",
    "\n",
    "stop_words = ['at','and','on','because','but','tonight','before','lol','since','i','I']\n",
    "\n",
    "#Parse Keywords. All phrase after 'won best' will be captured.\n",
    "for tweet in tweets:\n",
    "    words = tweet.lower().split()\n",
    "    index_won = words.index(\"won\")\n",
    "    if words[index_won + 1] == \"best\":\n",
    "        keyword = \"best \"\n",
    "        curr_index = index_won + 2\n",
    "        while curr_index != len(words):\n",
    "            if regexp.search(words[curr_index]) or words[curr_index] in stop_words:\n",
    "                #keyword += words[curr_index]\n",
    "                keyword = keyword.strip()\n",
    "                break\n",
    "            keyword += words[curr_index] + \" \"\n",
    "            curr_index += 1\n",
    "        keywords.append(keyword)\n",
    "\n",
    "strategy1 = common_phrases(keywords)\n",
    "print(strategy1)"
   ],
   "metadata": {
    "collapsed": false,
    "pycharm": {
     "name": "#%%\n"
    }
   }
  },
  {
   "cell_type": "code",
   "execution_count": 384,
   "outputs": [
    {
     "name": "stdout",
     "output_type": "stream",
     "text": [
      "[(('best', 'actress'), 148), (('best', 'supporting'), 142), (('best', 'motion'), 115), (('best', 'actor'), 96), (('best', 'original'), 39), (('best', 'screenplay'), 36), (('best', 'director'), 36), (('best', 'tv'), 33), (('best', 'animated'), 17), (('best', 'foreign'), 15), (('best', 'speech'), 13), (('best', 'comedy'), 9), (('best', 'drama'), 8), (('best', 'performance'), 8), (('best', 'picture'), 8), (('best', 'miniseries'), 7), (('best', 'mini'), 5), (('best', 'movie'), 4), (('best', 'television'), 4), (('best', 'dressed'), 3), (('best', 'goldenglobes'), 3), (('best', 'editing'), 3), (('best', 'sound'), 2), (('best', 'use'), 2), (('best', 'musical'), 2), (('best', 'gay'), 2), (('best', 'presenters'), 2), (('best', 'tan'), 2), (('best', 'hair'), 2), (('best', 'humans'), 1), (('best', 'imitation'), 1), (('best', 'political'), 1), (('best', 'awkward'), 1), (('best', 'originalscore'), 1), (('best', 'painted'), 1), (('best', 'song'), 1), (('best', 'swallowed'), 1), (('best', 'acceptance'), 1), (('best', 'lesbian'), 1), (('best', 'golden'), 1), (('best', 'outfit'), 1), (('best', 'affair'), 1), (('best', 'real'), 1), (('best', 'accessory'), 1), (('best', 'punchline'), 1), (('best', 'comedic'), 1), (('best', 'drunken'), 1), (('best', 'i'), 1), (('best', 'disapperaing'), 1), (('best', 'penguin'), 1), (('best', 'future'), 1), (('best', 'series'), 1), (('best', 'theme'), 1), (('best', 'direction'), 1), (('best', 'pic'), 1), (('best', 'livetweeter'), 1), (('best', 'film'), 1), (('best', 'jury'), 1), (('best', 'motion', 'picture'), 115), (('best', 'actress', 'in'), 101), (('best', 'supporting', 'actor'), 80), (('best', 'supporting', 'actress'), 56), (('best', 'actor', 'in'), 53), (('best', 'original', 'song'), 30), (('best', 'actor', 'tv'), 16), (('best', 'tv', 'series'), 15), (('best', 'animated', 'feature'), 13), (('best', 'tv', 'comedy'), 11), (('best', 'director', 'for'), 11), (('best', 'actress', 'tv'), 10), (('best', 'original', 'score'), 9), (('best', 'foreign', 'film'), 9), (('best', 'actor', 'for'), 8), (('best', 'director', 'motion'), 8), (('best', 'miniseries', 'or'), 7), (('best', 'performance', 'by'), 7), (('best', 'actress', 'for'), 7), (('best', 'screenplay', 'motion'), 6), (('best', 'foreign', 'language'), 6), (('best', 'actress', 'drama'), 6), (('best', 'speech', 'award'), 6), (('best', 'tv', 'drama'), 5), (('best', 'actor', 'comedy'), 5), (('best', 'mini', 'series'), 4), (('best', 'speech', 'of'), 4), (('best', 'animated', 'film'), 4), (('best', 'comedy', 'or'), 4), (('best', 'actress', 'motion'), 4), (('best', 'actor', 'drama'), 4), (('best', 'television', 'series'), 3), (('best', 'drama', 'tv'), 3), (('best', 'comedy', 'musical'), 3), (('best', 'use', 'of'), 2), (('best', 'gay', 'porn'), 2), (('best', 'actress', 'comedy'), 2), (('best', 'supporting', 'hug'), 2), (('best', 'supporting', 'pageboy'), 2), (('best', 'screenplay', 'in'), 2), (('best', 'dressed', 'of'), 2), (('best', 'tan', 'by'), 2), (('best', 'director', 'of'), 2), (('best', 'actor', 'musical'), 2), (('best', 'picture', 'comedy'), 2), (('best', 'picture', 'drama'), 2), (('best', 'movie', 'miniseries'), 1), (('best', 'tv', 'mini'), 1), (('best', 'actress', 'mini'), 1), (('best', 'supporting', 'role'), 1), (('best', 'drama', 'series'), 1), (('best', 'imitation', 'of'), 1), (('best', 'political', 'shart'), 1), (('best', 'television', 'drama'), 1), (('best', 'awkward', 'moment'), 1), (('best', 'originalscore', 'montionpicture'), 1), (('best', 'musical', 'score'), 1), (('best', 'painted', 'on'), 1), (('best', 'swallowed', 'rooster'), 1), (('best', 'acceptance', 'speech'), 1), (('best', 'lesbian', 'in'), 1), (('best', 'goldenglobes', 'acceptance'), 1), (('best', 'golden', 'globes'), 1), (('best', 'outfit', 'of'), 1), (('best', 'affair', 'ever'), 1), (('best', 'tv', 'movie'), 1), (('best', 'real', 'life'), 1), (('best', 'accessory', 'of'), 1), (('best', 'punchline', 'by'), 1), (('best', 'comedic', 'combo'), 1), (('best', 'presenters', 'ever'), 1), (('best', 'presenters', 'so'), 1), (('best', 'supporting', 'handjob'), 1), (('best', 'screenplay', 'for'), 1), (('best', 'mini', 'actor'), 1), (('best', 'drunken', 'acceptance'), 1), (('best', 'i', 'm'), 1), (('best', 'disapperaing', 'act'), 1), (('best', 'penguin', 'walking'), 1), (('best', 'future', 'gif'), 1), (('best', 'actress', 'television'), 1), (('best', 'goldenglobes', 'speech'), 1), (('best', 'series', 'of'), 1), (('best', 'theme', 'of'), 1), (('best', 'comedy', 'series'), 1), (('best', 'movie', 'comedy'), 1), (('best', 'pic', 'for'), 1), (('best', 'picture', 'musical'), 1), (('best', 'musical', 'comedy'), 1), (('best', 'actor', 'motion'), 1), (('best', 'livetweeter', 'of'), 1), (('best', 'actor', 'film'), 1), (('best', 'movie', 'award'), 1), (('best', 'film', 'drama'), 1), (('best', 'drama', 'film'), 1), (('best', 'drama', 'just'), 1), (('best', 'speech', 'yet'), 1), (('best', 'goldenglobes', 'analysis'), 1), (('best', 'actress', 'in', 'a'), 100), (('best', 'motion', 'picture', 'drama'), 99), (('best', 'supporting', 'actor', 'motion'), 49), (('best', 'actor', 'in', 'a'), 49), (('best', 'supporting', 'actress', 'tv'), 22), (('best', 'supporting', 'actor', 'in'), 21), (('best', 'supporting', 'actress', 'in'), 20), (('best', 'actor', 'tv', 'series'), 15), (('best', 'animated', 'feature', 'film'), 10), (('best', 'director', 'for', 'motion'), 10), (('best', 'tv', 'series', 'drama'), 9), (('best', 'actor', 'for', 'tv'), 8), (('best', 'director', 'motion', 'picture'), 8), (('best', 'motion', 'picture', 'comedy'), 8), (('best', 'miniseries', 'or', 'tv'), 7), (('best', 'performance', 'by', 'an'), 7), (('best', 'tv', 'comedy', 'musical'), 7), (('best', 'original', 'song', 'category'), 6), (('best', 'screenplay', 'motion', 'picture'), 6), (('best', 'foreign', 'language', 'film'), 6), (('best', 'actress', 'tv', 'drama'), 5), (('best', 'actress', 'tv', 'series'), 5), (('best', 'actor', 'comedy', 'musical'), 5), (('best', 'supporting', 'actress', 'for'), 4), (('best', 'speech', 'of', 'the'), 4), (('best', 'actress', 'for', 'comedy'), 4), (('best', 'comedy', 'or', 'musical'), 4), (('best', 'actress', 'motion', 'picture'), 4), (('best', 'mini', 'series', 'or'), 3), (('best', 'actor', 'in', 'tv'), 3), (('best', 'original', 'song', 'motion'), 3), (('best', 'original', 'song', 'in'), 2), (('best', 'gay', 'porn', 'face'), 2), (('best', 'supporting', 'actress', 'motion'), 2), (('best', 'screenplay', 'in', 'a'), 2), (('best', 'dressed', 'of', 'the'), 2), (('best', 'tan', 'by', 'an'), 2), (('best', 'drama', 'tv', 'actress'), 2), (('best', 'tv', 'series', 'actress'), 2), (('best', 'director', 'of', 'a'), 2), (('best', 'tv', 'series', 'comedy'), 2), (('best', 'actor', 'musical', 'or'), 2), (('best', 'picture', 'comedy', 'or'), 2), (('best', 'actress', 'for', 'motion'), 2), (('best', 'motion', 'picture', 'in'), 2), (('best', 'supporting', 'actor', 'award'), 1), (('best', 'mini', 'series', 'tv'), 1), (('best', 'tv', 'mini', 'series'), 1), (('best', 'actress', 'mini', 'series'), 1), (('best', 'tv', 'drama', 'actor'), 1), (('best', 'actor', 'tv', 'drama'), 1), (('best', 'supporting', 'role', 'tonight'), 1), (('best', 'imitation', 'of', 'snl'), 1), (('best', 'television', 'series', 'actor'), 1), (('best', 'drama', 'tv', 'series'), 1), (('best', 'tv', 'drama', 'series'), 1), (('best', 'original', 'score', 'award'), 1), (('best', 'original', 'score', 'for'), 1), (('best', 'use', 'of', 'a'), 1), (('best', 'originalscore', 'montionpicture', 'goldenglobes'), 1), (('best', 'painted', 'on', 'dress'), 1), (('best', 'original', 'song', 'award'), 1), (('best', 'lesbian', 'in', 'a'), 1), (('best', 'goldenglobes', 'acceptance', 'speech'), 1), (('best', 'golden', 'globes', 'acceptance'), 1), (('best', 'outfit', 'of', 'the'), 1), (('best', 'use', 'of', 'monotone'), 1), (('best', 'tv', 'movie', 'or'), 1), (('best', 'real', 'life', 'quote'), 1), (('best', 'accessory', 'of', 'the'), 1), (('best', 'punchline', 'by', 'an'), 1), (('best', 'actress', 'comedy', 'or'), 1), (('best', 'presenters', 'so', 'far'), 1), (('best', 'motion', 'picture', 'screenplay'), 1), (('best', 'screenplay', 'for', 'a'), 1), (('best', 'mini', 'actor', 'in'), 1), (('best', 'drunken', 'acceptance', 'speech'), 1), (('best', 'tv', 'drama', 'actress'), 1), (('best', 'i', 'm', 'a'), 1), (('best', 'animated', 'film', 'globe'), 1), (('best', 'actress', 'in', 'tv'), 1), (('best', 'tv', 'comedy', 'actress'), 1), (('best', 'penguin', 'walking', 'impression'), 1), (('best', 'future', 'gif', 'of'), 1), (('best', 'actress', 'television', 'comedy'), 1), (('best', 'series', 'of', 'non'), 1), (('best', 'director', 'for', 'a'), 1), (('best', 'television', 'series', 'comedy'), 1), (('best', 'theme', 'of', 'the'), 1), (('best', 'tv', 'comedy', 'or'), 1), (('best', 'actor', 'in', 'motion'), 1), (('best', 'movie', 'comedy', 'musical'), 1), (('best', 'comedy', 'musical', 'motion'), 1), (('best', 'pic', 'for', 'comedy'), 1), (('best', 'picture', 'musical', 'comedy'), 1), (('best', 'actor', 'motion', 'picture'), 1), (('best', 'actress', 'for', 'a'), 1), (('best', 'livetweeter', 'of', 'the'), 1), (('best', 'actor', 'film', 'drama'), 1), (('best', 'drama', 'film', 'is'), 1), (('best', 'comedy', 'musical', 'goldenglobes'), 1), (('best', 'television', 'series', 'for'), 1), (('best', 'supporting', 'actress', 'tv', 'series', 'miniseries', 'or', 'tv', 'movie'), 22), (('best', 'supporting', 'actor', 'in', 'a', 'tv', 'show', 'miniseries', 'or'), 8), (('best', 'actress', 'in', 'a', 'motion', 'picture', 'comedy', 'or', 'musical'), 6), (('best', 'supporting', 'actress', 'in', 'a', 'tv', 'movie', 'series', 'or'), 2), (('best', 'actress', 'in', 'a', 'mini', 'series', 'or', 'tv', 'movie'), 2), (('best', 'performance', 'by', 'an', 'actress', 'in', 'a', 'motion', 'picture'), 2), (('best', 'supporting', 'actress', 'in', 'tv', 'series', 'mini', 'series', 'or'), 1), (('best', 'supporting', 'actress', 'in', 'a', 'tv', 'show', 'miniseries', 'or'), 1), (('best', 'lesbian', 'in', 'a', 'back', 'stage', 'candid', 'video', 'cameo'), 1), (('best', 'performance', 'by', 'an', 'actor', 'in', 'a', 'mini', 'series'), 1), (('best', 'performance', 'by', 'an', 'actor', 'in', 'a', 'miniseries', 'or'), 1), (('best', 'actor', 'in', 'a', 'mini', 'series', 'or', 'motion', 'picture'), 1), (('best', 'performance', 'by', 'an', 'actress', 'in', 'a', 'comedy', 'or'), 1), (('best', 'supporting', 'actor', 'in', 'a', 'tv', 'series', 'or', 'movie'), 1), (('best', 'actor', 'in', 'a', 'tv', 'series', 'comedy', 'or', 'musical'), 1), (('best', 'actor', 'in', 'a', 'television', 'series', 'in', 'a', 'comedy'), 1), (('best', 'performance', 'by', 'an', 'actress', 'in', 'a', 'tv', 'series'), 1), (('best', 'i', 'm', 'a', 'bi', 'polar', 'cia', 'agent', 'who'), 1), (('best', 'tv', 'series', 'actress', 'in', 'a', 'comedy', 'or', 'musical'), 1), (('best', 'performance', 'by', 'an', 'actor', 'in', 'a', 'motion', 'picture'), 1), (('best', 'performance', 'by', 'an', 'actor', 'in', 'a', 'mini', 'series', 'or', 'movie', 'made'), 1), (('best', 'actor', 'in', 'a', 'mini', 'series', 'or', 'motion', 'picture', 'made', 'for', 'television'), 1), (('best', 'supporting', 'actor', 'in', 'a', 'tv', 'show', 'miniseries', 'or', 'tv', 'movie', 'award'), 1), (('best', 'i', 'm', 'a', 'bi', 'polar', 'cia', 'agent', 'who', 'just', 'had', 'a'), 1), (('best', 'performance', 'by', 'an', 'actor', 'in', 'a', 'motion', 'picture', 'comedy', 'or', 'musical'), 1)]\n"
     ]
    },
    {
     "data": {
      "text/plain": "[('best', 90),\n ('best director', 26),\n ('best supporting', 14),\n ('best actress', 12),\n ('best original', 12),\n ('best picture', 10),\n (\"best original song for 'ben'\", 9),\n ('best director for', 8),\n ('best original song for', 7),\n ('best performance by an actress in a supporting', 6),\n ('best actor', 5),\n ('best original song', 5),\n ('best screenplay', 5),\n ('best animated feature', 5),\n ('best supporting actor for django', 4),\n ('best drama', 4),\n ('best tv', 4),\n ('best song', 4),\n ('best movie', 4),\n ('best motion picture', 4),\n ('best supporting actor', 3),\n ('best supporting actress', 3),\n ('best foreign film', 3),\n ('best foreign', 3),\n ('best actor in a comedy or', 3),\n ('best actress for silver linings', 2),\n ('best supporting actress for les', 2),\n ('best screenplay for django', 2),\n ('best screenplay for', 2),\n ('best actress for keeping up with the', 2),\n ('best actress in a tv series drama (and probably many best dressed', 2),\n ('best comedy or musical', 2),\n ('best actor for', 2),\n ('best actor in a', 2),\n ('best motion picture -', 2),\n ('best supporting actor in a motion picture for django unchained', 1),\n ('best supporting actor for his work in quentin tarantino\\'s \"django unchained\" ',\n  1),\n ('best actress in a musical for some like it', 1),\n ('best actress for her role', 1),\n ('best supporting actress for', 1),\n ('best actress in a miniseries', 1),\n ('best actor for django', 1),\n ('best supporting actor in a motion picture for django', 1),\n ('best actor for a television series', 1),\n ('best actor for tv series -', 1),\n ('best tv drama', 1),\n ('best original score for life of', 1),\n ('best song for', 1),\n ('best song in a motion', 1),\n ('best original song in a motion picture for \"skyfall\"', 1),\n ('best song in a motion picture - skyfall -james bond', 1),\n ('best skin tight', 1),\n ('best actor in tv', 1),\n ('best director for dances with wolves\"', 1),\n ('best motion picture drama', 1),\n ('best actress for a motion', 1),\n ('best actress for les', 1),\n ('best supporting actress😁✊', 1),\n ('best supporting actress for les miserables’', 1),\n ('best original song motion picture', 1),\n ('best supporting actress for les mis', 1),\n ('best supporting performance in a series/mini-series/tv', 1),\n ('best screenplay -', 1),\n ('best screenplay/motion picture for django', 1),\n ('best original screenplay for \"django', 1),\n ('best blurry picture with a', 1),\n ('best foreign language', 1),\n ('best screenplay for \"django\" apparently there\\'s a solid plot beneath the',\n  1),\n ('best supporting actor in a motion picture - django unchained -', 1),\n ('best actress drama', 1),\n ('best animated', 1),\n ('best animated movie a year it made a', 1),\n ('best animated picture in the golden', 1),\n ('best dressed', 1),\n ('best supporting actress in the golden', 1),\n ('best life time achievement in', 1),\n ('best director for argo - that movie was', 1),\n ('best tv show musical/comedy', 1),\n ('best director in the', 1),\n ('best director for the film', 1),\n ('best tv comedy', 1),\n ('best director for \"argo\" ✊', 1),\n ('best tv series - comedy or', 1),\n ('best anal sex', 1),\n ('best performance by an actor in a motion picture - musical or comedy for \"les misérables\"',\n  1),\n ('best actor in a musical or comedy for his role in \"les miserables\" ', 1),\n ('best husband', 1),\n ('best actor in comedy or musical for the golden', 1),\n ('best actor in the', 1),\n ('best actor in the golden globes musical', 1),\n ('best motion picture - musical or comedy', 1),\n ('best picture (musical/comedy)', 1),\n ('best film', 1),\n ('best comedy/', 1),\n ('best motion picture for the', 1),\n ('best picture -', 1),\n ('best director met his wife', 1),\n ('best actress in both', 1),\n ('best performance by an actor in a motion picture - drama for \"lincoln\"', 1),\n ('best actress in a', 1),\n ('best motion picture - comedy or musical', 1),\n ('best actor in a motion', 1),\n ('best actress for', 1),\n ('best actress for zero dark', 1),\n ('best motion', 1),\n ('best picture for', 1),\n ('best dressed in my opinion', 1),\n ('best movie definitely a game changer for the oscars', 1),\n ('best comedy/musical', 1),\n ('best actor so all is', 1),\n ('best dressed hands', 1),\n ('best pic', 1),\n ('best supporting actress in a motion picture for les', 1),\n ('best picture in the', 1),\n ('best tv series drama', 1),\n ('best director for argo', 1)]"
     },
     "execution_count": 384,
     "metadata": {},
     "output_type": "execute_result"
    }
   ],
   "source": [
    "#Strategy 2 scan before the word won:\n",
    "df3 = df[df['text'].str.contains(\" goes to \")]\n",
    "tweets = df3['text'].tolist()\n",
    "keywords2 = []\n",
    "#Parse Backwards, stop at the word best\n",
    "for tweet in tweets:\n",
    "    words = nltk.word_tokenize(tweet.lower())\n",
    "    index = words.index(\"to\")\n",
    "    if words[index - 1] == \"goes\":\n",
    "        keyword = \"\"\n",
    "        curr_index = index - 2\n",
    "        while curr_index >= 0:\n",
    "            if curr_index == 0 or words[curr_index] == \"best\":\n",
    "                keyword = words[curr_index] + keyword\n",
    "                break\n",
    "            keyword = \" \" + words[curr_index] + keyword\n",
    "            curr_index -= 1\n",
    "        keywords2.append(keyword)\n",
    "\n",
    "#print(keywords2)\n",
    "strategy2 = common_phrases(keywords2)\n",
    "print(strategy2)\n",
    "\n",
    "most_common_beststring(keywords)"
   ],
   "metadata": {
    "collapsed": false,
    "pycharm": {
     "name": "#%%\n"
    }
   }
  },
  {
   "cell_type": "code",
   "execution_count": 385,
   "outputs": [],
   "source": [
    "common_strings = most_common_beststring(keywords2)"
   ],
   "metadata": {
    "collapsed": false,
    "pycharm": {
     "name": "#%%\n"
    }
   }
  },
  {
   "cell_type": "code",
   "execution_count": 386,
   "outputs": [
    {
     "name": "stdout",
     "output_type": "stream",
     "text": [
      "540\n"
     ]
    }
   ],
   "source": [
    "'''\n",
    "Input: gram sets\n",
    "Output: phrases with frequency\n",
    "'''\n",
    "def accumulate_votes(grams1, grams2, common_strings):\n",
    "    awards = {}\n",
    "    for gram in grams1:\n",
    "        untokenize = ' '.join(gram[0])\n",
    "        awards[untokenize] = len(gram[0]) * gram[1]\n",
    "    for gram in grams2:\n",
    "        untokenize = ' '.join(gram[0])\n",
    "        if untokenize in awards:\n",
    "            awards[untokenize] = awards[untokenize] * 2.5\n",
    "        else:\n",
    "            awards[untokenize] = len(gram[0]) * gram[1]\n",
    "    for string in common_strings:\n",
    "        first_two = ' '.join(nltk.word_tokenize(string[0])[:2])\n",
    "        if string[0] in awards:\n",
    "            awards[string[0]] = awards[string[0]] * 2.5\n",
    "        elif first_two in awards:\n",
    "            awards[string[0]] = awards[first_two] * string[1]\n",
    "        else:\n",
    "            awards[string[0]] = len(string[0]) * string[1]\n",
    "    return sorted(awards.items(), key = lambda x: x[1], reverse = True)\n",
    "votes = accumulate_votes(strategy1, strategy2, common_strings)\n",
    "#Need a way to combine similar categories\n",
    "print(len(votes))"
   ],
   "metadata": {
    "collapsed": false,
    "pycharm": {
     "name": "#%%\n"
    }
   }
  },
  {
   "cell_type": "code",
   "execution_count": 389,
   "outputs": [
    {
     "name": "stdout",
     "output_type": "stream",
     "text": [
      "431\n"
     ]
    },
    {
     "data": {
      "text/plain": "[('best director - motion picture', 80078.125),\n ('best actress - television comedy / musical', 25375.0),\n ('best actress - motion picture drama', 11375.0),\n ('best supporting actor motion picture', 9065.0),\n ('best actress - television series drama', 6125.0),\n ('best supporting actress - motion picture', 5550.0),\n ('best actress - mini-series / television movie', 4550.0),\n ('best actress - motion picture comedy / musical', 4375.0),\n ('best actress - comedy / musical', 3500.0),\n ('best actor - motion picture drama', 3300.0),\n ('best television comedy / musical', 1968.75),\n ('best screenplay - motion picture', 1875.0),\n ('best actor - miniseries / television movie', 1870.0),\n ('best actor -', 1831.0546875),\n ('best actor - television drama', 1650.0),\n ('best actor - motion picture comedy / musical', 1650.0),\n ('best actor television series - comedy / musical', 1540.0),\n ('best actress -', 1464.84375),\n ('best actress television series comedy', 1400.0),\n ('best actor comedy / musical', 1375.0),\n ('best supporting actor - television show miniseries / television movie',\n  1295.0),\n ('best original song category the golden globe', 1110.0),\n ('best supporting actor - television', 1110.0),\n ('best actress - miniseries / television movie', 1050.0),\n ('best actress - television drama', 1050.0),\n ('best motion picture comedy / musical', 1031.25),\n ('best supporting actor - motion picture', 925.0),\n ('best original song - motion picture', 925.0),\n ('best actress motion picture drama', 875.0),\n ('best actress - drama', 875.0),\n ('best actress - mini series / television movie', 700.0),\n ('best actress - television comedy', 700.0),\n ('best actress - comedy / musical series', 700.0),\n ('best actress - motion picture- drama-', 700.0),\n ('best actress - motion picture - drama', 700.0),\n ('best actor - television series', 687.5),\n ('best actor - television series - comedy / musical', 687.5),\n ('best actor musical / comedy', 687.5),\n ('best screenplay -', 585.9375),\n ('best performance by an actor -', 585.9375),\n ('best director', 512.5),\n ('best supporting actress television series miniseries / television movie',\n  495.0),\n ('best supporting actress - television series', 462.5),\n ('best television series - drama', 450.0),\n ('best original song', 431.25),\n ('best motion picture - drama', 412.5),\n ('best supporting actress - television movie series / miniseries', 370.0),\n ('best original song motion picture', 370.0),\n ('best supporting actress motion picture', 370.0),\n ('best actress', 350.0),\n ('best actress - television series', 350.0),\n ('best actress - mini-series', 350.0),\n ('best actress - mini-series television movie', 350.0),\n ('best actress comedy / musical', 350.0),\n ('best actress - musical / comedy', 350.0),\n ('best actress - motion picture musical / comedy', 350.0),\n ('best actress television series drama', 350.0),\n ('best actress - television series comedy / musical', 350.0),\n ('best actress television comedy / musical', 350.0),\n ('best actress motion picture - drama', 350.0),\n ('best actress motion picture / drama', 350.0),\n ('best television series actress - comedy / musical', 281.25),\n ('best actor', 275.0),\n ('best actor - television series / drama', 275.0),\n ('best actor - television drama award', 275.0),\n ('best actor - television series drama', 275.0),\n ('best actor television series drama', 275.0),\n ('best actor television drama award', 275.0),\n ('best actor - television series-drama', 275.0),\n ('best actor - television miniseries', 275.0),\n ('best actor - mini-series / motion picture made - television', 275.0),\n ('best actor - television series comedy / musical', 275.0),\n ('best actor - movie musical / comedy', 275.0),\n ('best actor - comedy film', 275.0),\n ('best actor - motion picture', 275.0),\n ('best actor motion picture drama', 275.0),\n ('best actor - drama', 275.0),\n ('best actor film / drama', 275.0),\n ('rt rarariot : most sincere / best speech award', 230),\n ('best supporting actor', 206.25),\n ('best supporting actress', 206.25),\n ('best supporting actor motion', 196),\n ('best motion picture', 187.5),\n ('best supporting', 185.0),\n ('best original', 185.0),\n ('best supporting actor - movie', 185.0),\n ('best supporting actor ``', 185.0),\n ('best supporting actress - television miniseries etc . -', 185.0),\n ('best supporting actress - television', 185.0),\n ('best supporting actress - television series mini-series / television movie',\n  185.0),\n ('best supporting actress - television show miniseries / television movie',\n  185.0),\n ('best original score - film', 185.0),\n ('best supporting actor - television show miniseries / television movie award',\n  185.0),\n ('best supporting actress - motion picture drama', 185.0),\n ('best supporting actress - comedy / musical', 185.0),\n ('best supporting actor - television series / movie', 185.0),\n ('best supporting actor -', 156.25),\n ('best supporting actress -', 156.25),\n ('best screenplay', 150.0),\n ('best screenplay - motion picture ``', 150.0),\n ('best motion picture - comedy / musical', 137.5),\n ('best comedy / musical', 125.0),\n ('best director -', 117.1875),\n ('best television drama', 117.1875),\n ('best actress drama', 117.1875),\n ('best television', 112.5),\n ('best television mini-series', 112.5),\n ('best television series- drama', 112.5),\n ('best television series - drama ``', 112.5),\n ('best television movie / miniseries actor', 112.5),\n ('best television series comedy / musical', 112.5),\n ('best television series comedy award', 112.5),\n ('best television series - comedy', 112.5),\n ('best television series - comedy / musical', 112.5),\n ('best speech - the night', 104),\n ('best performance', 100.0),\n ('best animated feature film', 100.0),\n ('best performance by an actor - mini series / movie made - television',\n  100.0),\n ('best performance by an actor - miniseries / television film ``', 100.0),\n ('best performance by an actress - comedy / musical', 100.0),\n ('best performance by an actress - television series drama', 100.0),\n ('best performance by an actor - motion picture comedy / musical', 100.0),\n ('best performance by an actress - motion picture drama', 100.0),\n ('best performance by an actress - motion picture - drama', 100.0),\n ('best animated feature', 93.75),\n ('best television series', 93.75),\n ('best supporting actress television', 88),\n ('best song', 87.5),\n ('best miniseries / television movie', 84),\n ('best performance by an', 80.0),\n ('best actress television', 75.0),\n ('best actor drama', 75.0),\n ('best performance by an actress -', 75.0),\n ('best speech', 65.0),\n ('best dressed', 62.5),\n ('best movie', 62.5),\n ('best motion picture drama', 62.5),\n ('best screenplay motion picture', 62.5),\n ('best television series drama', 62.5),\n ('best picture : comedy / musical', 62.5),\n ('best dressed - the night easily', 62.5),\n ('best dressed - the night at the goldenglobes', 62.5),\n ('best performance by', 60.0),\n ('best actor television series', 60),\n ('best foreign language film', 60.0),\n ('best foreign film', 56.25),\n ('best motion', 55.0),\n ('best motion picture- comedy / musical', 55.0),\n ('best motion picture - drama -', 55.0),\n ('best drama', 50.0),\n ('best comedy', 50.0),\n ('best actress television drama', 50.0),\n ('best comedy / musical motion picture', 50.0),\n ('best drama . just', 50.0),\n ('best comedy / musical goldenglobes', 50.0),\n ('best actor television', 48),\n ('best i m', 46.875),\n ('bestactor - miniseries / tvseries goldenglobes', 46),\n ('bestdressed goldenglobes goldenglobes2013', 41),\n ('best animated', 40.0),\n ('best director - motion', 40),\n ('best actress - comedy', 40.0),\n ('best animated feature film :', 40.0),\n ('best foreign', 35.0),\n ('best mini-series / television movie', 35),\n ('best director motion picture', 32),\n ('most sincere / best speech award', 32),\n ('best picture', 31.25),\n ('best picture - comedy musical', 31.25),\n ('best picture musical / comedy', 31.25),\n ('best picture - drama', 31.25),\n ('best animated film', 30.0),\n ('and the award - cutest besties', 30),\n ('best mini-series / television', 29),\n ('best miniseries / television', 28),\n ('best television comedy musical', 28),\n ('best actor - television', 25.0),\n ('best television series comedy', 25.0),\n ('best movie / miniseries', 25.0),\n ('best movie - comedy / musical', 25.0),\n ('best director motion', 24),\n ('best original song category', 24),\n ('best mini-actor - series', 24),\n ('best miniseries /', 21),\n ('best actress television series', 20),\n ('best actor comedy musical', 20),\n ('best gay porn face', 20.0),\n ('best drama television actress', 20.0),\n ('best mini series / television movie', 20),\n ('best original score', 18.75),\n ('best television comedy', 18.75),\n ('best lesbian -', 18.75),\n ('best speech award', 18),\n ('bestmotionpicture', 17),\n ('best speech - the', 16),\n ('best actress motion picture', 16),\n ('best comedy /', 15.0),\n ('best editing', 15.0),\n ('best actor comedy', 15),\n ('best use -', 15.0),\n ('best actress comedy', 15.0),\n ('best supporting hug', 15.0),\n ('best supporting pageboy', 15.0),\n ('best picture drama', 15.0),\n ('best miniseries', 14),\n ('best miniseries / television movie award', 14),\n ('best screenplay - django', 12),\n ('best director - argo', 12),\n ('best supporting actor - his work - quentin tarantino s django unchained',\n  12),\n ('best mini series', 12),\n ('best speech -', 12),\n ('best actress motion', 12),\n ('best mini series /', 12),\n ('best original song -', 10.0),\n ('best original score -', 10.0),\n ('best original song motion', 10.0),\n ('best actor - comedy', 10.0),\n ('best picture musical comedy', 10.0),\n ('best motion picture -', 10.0),\n ('best motion picture comedy', 10.0),\n ('best mini', 10),\n ('best hair', 10.0),\n ('best supporting actor award', 10.0),\n ('best television drama actor', 10.0),\n ('best supporting role tonight', 10.0),\n ('best television series actor', 10.0),\n ('best drama television series', 10.0),\n ('best television drama series', 10.0),\n ('best original score award', 10.0),\n ('best originalscore montionpicture goldenglobes', 10.0),\n ('best painted on dress', 10.0),\n ('best original song award', 10.0),\n ('best presenters so far', 10.0),\n ('best motion picture screenplay', 10.0),\n ('best television drama actress', 10.0),\n ('best animated film globe', 10.0),\n ('best television comedy actress', 10.0),\n ('best penguin walking impression', 10.0),\n ('best drama film is', 10.0),\n ('best supporting actor - his work - quentin tarantino', 9),\n ('best actor - comedy / musical - the golden', 9),\n ('best drama television', 9),\n ('best supporting actress - television series mini series /', 9),\n ('best actress - silver', 8),\n ('best actress - keeping', 8),\n ('best actor - the', 8),\n ('best supporting actress motion', 8),\n ('best dressed - the', 8),\n ('best tan by an', 8),\n ('best television series actress', 8),\n ('best actor musical /', 8),\n ('best picture comedy /', 8),\n ('best actress - motion', 8),\n ('best sound ``', 8),\n ('best tan by an actress', 8),\n ('best screenplay motion', 7.5),\n ('best foreign language', 7.5),\n ('best picture musical', 7.5),\n ('best picture -', 7.5),\n ('best dressed -', 7.5),\n ('best comedy musical', 7.5),\n ('best drama series', 7.5),\n ('best political shart', 7.5),\n ('best awkward moment', 7.5),\n ('best musical score', 7.5),\n ('best swallowed rooster', 7.5),\n ('best acceptance speech', 7.5),\n ('best affair ever', 7.5),\n ('best comedic combo', 7.5),\n ('best presenters ever', 7.5),\n ('best supporting handjob', 7.5),\n ('best disapperaing act', 7.5),\n ('best goldenglobes speech', 7.5),\n ('best comedy series', 7.5),\n ('best movie award', 7.5),\n ('best film drama', 7.5),\n ('best speech yet', 7.5),\n ('best goldenglobes analysis', 7.5),\n ('best screenplay - django apparently there s', 7),\n ('best goldenglobes', 6),\n ('best gay porn', 6),\n ('best tan by', 6),\n ('best actor musical', 6),\n ('best picture comedy', 6),\n ('best goldenglobes acceptance speech so far', 6),\n ('best film', 5.0),\n ('best humans', 5.0),\n ('best direction', 5.0),\n ('best jury', 5.0),\n ('best television series actress -', 5),\n ('best actress - her', 4),\n ('best actor - django', 4),\n ('best director - dances', 4),\n ('best actress - les', 4),\n ('best supporting performance -', 4),\n ('best original screenplay -', 4),\n ('best blurry picture with', 4),\n ('best animated picture -', 4),\n ('best life time achievement', 4),\n ('best television show musical', 4),\n ('best director - the', 4),\n ('best motion picture musical', 4),\n ('best director met his', 4),\n ('best actress - both', 4),\n ('best actress - zero', 4),\n ('best dressed - my', 4),\n ('best actor so all', 4),\n ('best picture - the', 4),\n ('best sound', 4),\n ('best use', 4),\n ('best musical', 4),\n ('best gay', 4),\n ('best presenters', 4),\n ('best tan', 4),\n ('best mini series television', 4),\n ('best television mini series', 4),\n ('best actress mini series', 4),\n ('best actor television drama', 4),\n ('best imitation - snl', 4),\n ('best goldenglobes acceptance speech', 4),\n ('best golden globes acceptance', 4),\n ('best outfit - the', 4),\n ('best use - monotone', 4),\n ('best television movie /', 4),\n ('best real life quote', 4),\n ('best accessory - the', 4),\n ('best punchline by an', 4),\n ('best actress comedy /', 4),\n ('best mini actor -', 4),\n ('best drunken acceptance speech', 4),\n ('best actress - television', 4),\n ('best future gif -', 4),\n ('best actress television comedy', 4),\n ('best series - non', 4),\n ('best theme - the', 4),\n ('best television comedy /', 4),\n ('best actor - motion', 4),\n ('best movie comedy musical', 4),\n ('best comedy musical motion', 4),\n ('best picture - comedy', 4),\n ('best actor motion picture', 4),\n ('best livetweeter - the', 4),\n ('best actor film drama', 4),\n ('best comedy musical goldenglobes', 4),\n ('best television series -', 4),\n ('best use - large doily', 4),\n ('best use - monotone - an acceptance speech ``', 4),\n ('best musical / comedy', 4),\n ('best song -', 3),\n ('best skin tight', 3),\n ('best supporting performance', 3),\n ('best original screenplay', 3),\n ('best blurry picture', 3),\n ('best animated movie', 3),\n ('best animated picture', 3),\n ('best life time', 3),\n ('best television show', 3),\n ('best anal sex', 3),\n ('best director met', 3),\n ('best movie definitely', 3),\n ('best actor so', 3),\n ('best dressed hands', 3),\n ('best movie miniseries', 3),\n ('best television mini', 3),\n ('best actress mini', 3),\n ('best supporting role', 3),\n ('best imitation -', 3),\n ('best originalscore montionpicture', 3),\n ('best painted on', 3),\n ('best goldenglobes acceptance', 3),\n ('best golden globes', 3),\n ('best outfit -', 3),\n ('best television movie', 3),\n ('best real life', 3),\n ('best accessory -', 3),\n ('best punchline by', 3),\n ('best presenters so', 3),\n ('best mini actor', 3),\n ('best drunken acceptance', 3),\n ('best penguin walking', 3),\n ('best future gif', 3),\n ('best series -', 3),\n ('best theme -', 3),\n ('best movie comedy', 3),\n ('best musical comedy', 3),\n ('best actor motion', 3),\n ('best livetweeter -', 3),\n ('best actor film', 3),\n ('best drama film', 3),\n ('best drama just', 3),\n ('best skin', 2),\n ('best blurry', 2),\n ('best life', 2),\n ('best anal', 2),\n ('best husband', 2),\n ('best imitation', 2),\n ('best political', 2),\n ('best awkward', 2),\n ('best originalscore', 2),\n ('best painted', 2),\n ('best swallowed', 2),\n ('best acceptance', 2),\n ('best lesbian', 2),\n ('best golden', 2),\n ('best outfit', 2),\n ('best affair', 2),\n ('best real', 2),\n ('best accessory', 2),\n ('best punchline', 2),\n ('best comedic', 2),\n ('best drunken', 2),\n ('best i', 2),\n ('best disapperaing', 2),\n ('best penguin', 2),\n ('best future', 2),\n ('best series', 2),\n ('best theme', 2),\n ('best livetweeter', 2),\n (\"best imitation - snl 's homeland sketch\", 2),\n ('best lesbian - back-stage candid video cameo', 2),\n ('best golden globes acceptance speech', 2),\n ('best outfit - the night', 2),\n ('best real life quote award', 2),\n ('best accessory - the night', 2),\n ('best punchline by an actress', 2),\n ('best drunken acceptance speech - the night', 2),\n (\"best i 'm bi-polar cia agent who just had baby - real life month ago & amp ; am rocking this red dress\",\n  2),\n ('best future gif - the night', 2),\n ('best series - non sequiturs', 2),\n ('best theme - the night', 2),\n ('best livetweeter - the golden globes', 2)]"
     },
     "execution_count": 389,
     "metadata": {},
     "output_type": "execute_result"
    }
   ],
   "source": [
    "collocation_words = {\n",
    "    \"tv\":\"television\",\n",
    "    \"pic\":\"picture\",\n",
    "    \"for\":\"-\",\n",
    "    \"in\":\"-\",\n",
    "    'or':'/',\n",
    "    'of':'-'\n",
    "}\n",
    "\n",
    "skip_words = ['a']\n",
    "\n",
    "paraphrase = [',','@','(',')','#']\n",
    "\n",
    "def gram_cleaning(grams):\n",
    "    new_grams = []\n",
    "    for gram in grams:\n",
    "        word_list = []\n",
    "        for word in gram[0]:\n",
    "            if word in collocation_words:\n",
    "                word = collocation_words[word]\n",
    "            if word in skip_words:\n",
    "                break\n",
    "            if word not in paraphrase:\n",
    "                word_list.append(word)\n",
    "        word_tuple = tuple(word_list)\n",
    "        gram_tuple = (word_tuple,gram[1])\n",
    "        new_grams.append(gram_tuple)\n",
    "    return new_grams\n",
    "\n",
    "def sticky_word_string(phrase):\n",
    "    phrase_list = nltk.word_tokenize(phrase)\n",
    "    token_list = []\n",
    "    for word in phrase_list:\n",
    "        flag = 0\n",
    "        for i,character in enumerate(word):\n",
    "            if character == '/' and i != 0:\n",
    "                token_list.append(word[0:i])\n",
    "                token_list.append(word[i])\n",
    "                flag = i\n",
    "                if i != len(word)-1:\n",
    "                    token_list.append(word[i+1:len(word)])\n",
    "                break\n",
    "        if flag == 0 and word not in skip_words:\n",
    "            token_list.append(word)\n",
    "    clean_string = ' '.join(token_list)\n",
    "    return clean_string\n",
    "\n",
    "\n",
    "def string_cleaning(grams):\n",
    "    new_grams = []\n",
    "    for gram in grams:\n",
    "        word_list = []\n",
    "        clean_gram = sticky_word_string(gram[0])\n",
    "        temp_list = nltk.word_tokenize(clean_gram)\n",
    "        for word in temp_list:\n",
    "            if word in collocation_words:\n",
    "                word = collocation_words[word]\n",
    "            if word not in paraphrase:\n",
    "                word = word.strip()\n",
    "                word_list.append(word)\n",
    "        phrase = ' '.join(word_list)\n",
    "        gram_tuple = (phrase,gram[1])\n",
    "        new_grams.append(gram_tuple)\n",
    "    return new_grams\n",
    "\n",
    "#for vote in votes:\n",
    "#print(strategy1)\n",
    "new1 = gram_cleaning(strategy1)\n",
    "new2 = gram_cleaning(strategy2)\n",
    "new3 = string_cleaning(common_strings)\n",
    "votes = accumulate_votes(new1, new2, new3)\n",
    "#Need a way to combine similar categories\n",
    "print(len(votes))\n",
    "votes\n",
    "\n"
   ],
   "metadata": {
    "collapsed": false,
    "pycharm": {
     "name": "#%%\n"
    }
   }
  }
 ],
 "metadata": {
  "kernelspec": {
   "name": "pycharm-6f190720",
   "language": "python",
   "display_name": "PyCharm (The_Golden_Globes_Mining)"
  },
  "language_info": {
   "codemirror_mode": {
    "name": "ipython",
    "version": 3
   },
   "file_extension": ".py",
   "mimetype": "text/x-python",
   "name": "python",
   "nbconvert_exporter": "python",
   "pygments_lexer": "ipython3",
   "version": "3.8.8"
  }
 },
 "nbformat": 4,
 "nbformat_minor": 5
}